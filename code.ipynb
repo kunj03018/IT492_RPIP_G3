{
  "cells": [
    {
      "cell_type": "code",
      "execution_count": 1,
      "metadata": {
        "colab": {
          "base_uri": "https://localhost:8080/"
        },
        "id": "FetJ_6DBm__L",
        "outputId": "6a56ad94-5f77-427a-f44d-a788008b7f69"
      },
      "outputs": [],
      "source": [
        "import warnings\n",
        "warnings.filterwarnings(\"ignore\")\n",
        "import math\n",
        "import numpy as np\n",
        "import matplotlib.pyplot as plt\n",
        "import pandas as pd\n",
        "import seaborn as sns\n",
        "import ctypes\n",
        "\n",
        "from scipy.sparse import lil_matrix\n",
        "from sklearn.linear_model import ElasticNet\n",
        "from sklearn.neighbors import NearestNeighbors\n",
        "import multiprocessing as mp\n",
        "from concurrent.futures import ProcessPoolExecutor\n",
        "\n",
        "from matplotlib import style\n",
        "%matplotlib inline\n",
        "style.use(\"fivethirtyeight\")\n",
        "sns.set_theme(style=\"whitegrid\", color_codes=True)\n",
        "\n",
        "# from google.colab import drive\n",
        "# drive.mount(\"/content/gdrive\", force_remount=True)"
      ]
    },
    {
      "cell_type": "code",
      "execution_count": 2,
      "metadata": {
        "id": "FWqcKa_4Bvbt"
      },
      "outputs": [],
      "source": [
        "# Dataset Link: https://www.kaggle.com/datasets/rdoume/beerreviews\n",
        "df = pd.read_csv(\"./dataset/beer_reviews_all.csv\")\n",
        "df.columns = [\"breweryid\", \"brewery_name\", \"rating_time\", \"rating_overall\", \"rating_smell\", \"rating_look\", \"userid\", \"beer_style\", \"rating_feel\", \"rating_taste\", \"beer_name\", \"beer_abv\", \"beerid\"]\n",
        "df = df[[\"userid\", \"beerid\", \"rating_overall\", \"rating_look\", \"rating_smell\", \"rating_taste\", \"rating_feel\", \"beer_name\", \"beer_style\", \"brewery_name\", \"beer_abv\", \"breweryid\", \"rating_time\"]]\n",
        "\n",
        "df[\"beer_abv\"].fillna(df[\"beer_abv\"].mean(), inplace=True)\n",
        "df.dropna(inplace=True)\n",
        "df.drop_duplicates(inplace=True)\n",
        "df.drop(index=df[df[\"rating_overall\"].isin([0.0])].index, inplace=True)\n",
        "df[\"beer_full\"] = df[\"beer_name\"] + \" (\" + df[\"beer_style\"] + \") by \" + df[\"brewery_name\"]\n",
        "df.reset_index(drop=True, inplace=True)"
      ]
    },
    {
      "cell_type": "code",
      "execution_count": 3,
      "metadata": {
        "colab": {
          "base_uri": "https://localhost:8080/"
        },
        "id": "kUEMs5tQdLra",
        "outputId": "46a8943e-ad3b-42d9-e9d0-3c0fda679161"
      },
      "outputs": [
        {
          "name": "stdout",
          "output_type": "stream",
          "text": [
            "<class 'pandas.core.frame.DataFrame'>\n",
            "RangeIndex: 1586244 entries, 0 to 1586243\n",
            "Data columns (total 14 columns):\n",
            " #   Column          Non-Null Count    Dtype  \n",
            "---  ------          --------------    -----  \n",
            " 0   userid          1586244 non-null  object \n",
            " 1   beerid          1586244 non-null  int64  \n",
            " 2   rating_overall  1586244 non-null  float64\n",
            " 3   rating_look     1586244 non-null  float64\n",
            " 4   rating_smell    1586244 non-null  float64\n",
            " 5   rating_taste    1586244 non-null  float64\n",
            " 6   rating_feel     1586244 non-null  float64\n",
            " 7   beer_name       1586244 non-null  object \n",
            " 8   beer_style      1586244 non-null  object \n",
            " 9   brewery_name    1586244 non-null  object \n",
            " 10  beer_abv        1586244 non-null  float64\n",
            " 11  breweryid       1586244 non-null  int64  \n",
            " 12  rating_time     1586244 non-null  int64  \n",
            " 13  beer_full       1586244 non-null  object \n",
            "dtypes: float64(6), int64(3), object(5)\n",
            "memory usage: 169.4+ MB\n"
          ]
        }
      ],
      "source": [
        "df.info()"
      ]
    },
    {
      "cell_type": "code",
      "execution_count": 4,
      "metadata": {
        "colab": {
          "base_uri": "https://localhost:8080/",
          "height": 590
        },
        "id": "6cu_vriWdIsL",
        "outputId": "009bf13f-e517-47ac-e4e3-9d009dbd43a1"
      },
      "outputs": [
        {
          "data": {
            "text/html": [
              "<div>\n",
              "<style scoped>\n",
              "    .dataframe tbody tr th:only-of-type {\n",
              "        vertical-align: middle;\n",
              "    }\n",
              "\n",
              "    .dataframe tbody tr th {\n",
              "        vertical-align: top;\n",
              "    }\n",
              "\n",
              "    .dataframe thead th {\n",
              "        text-align: right;\n",
              "    }\n",
              "</style>\n",
              "<table border=\"1\" class=\"dataframe\">\n",
              "  <thead>\n",
              "    <tr style=\"text-align: right;\">\n",
              "      <th></th>\n",
              "      <th>userid</th>\n",
              "      <th>beerid</th>\n",
              "      <th>rating_overall</th>\n",
              "      <th>rating_look</th>\n",
              "      <th>rating_smell</th>\n",
              "      <th>rating_taste</th>\n",
              "      <th>rating_feel</th>\n",
              "      <th>beer_name</th>\n",
              "      <th>beer_style</th>\n",
              "      <th>brewery_name</th>\n",
              "      <th>beer_abv</th>\n",
              "      <th>breweryid</th>\n",
              "      <th>rating_time</th>\n",
              "      <th>beer_full</th>\n",
              "    </tr>\n",
              "  </thead>\n",
              "  <tbody>\n",
              "    <tr>\n",
              "      <th>0</th>\n",
              "      <td>stcules</td>\n",
              "      <td>47986</td>\n",
              "      <td>1.5</td>\n",
              "      <td>2.5</td>\n",
              "      <td>2.0</td>\n",
              "      <td>1.5</td>\n",
              "      <td>1.5</td>\n",
              "      <td>Sausa Weizen</td>\n",
              "      <td>Hefeweizen</td>\n",
              "      <td>Vecchio Birraio</td>\n",
              "      <td>5.0</td>\n",
              "      <td>10325</td>\n",
              "      <td>1234817823</td>\n",
              "      <td>Sausa Weizen (Hefeweizen) by Vecchio Birraio</td>\n",
              "    </tr>\n",
              "    <tr>\n",
              "      <th>1</th>\n",
              "      <td>stcules</td>\n",
              "      <td>48213</td>\n",
              "      <td>3.0</td>\n",
              "      <td>3.0</td>\n",
              "      <td>2.5</td>\n",
              "      <td>3.0</td>\n",
              "      <td>3.0</td>\n",
              "      <td>Red Moon</td>\n",
              "      <td>English Strong Ale</td>\n",
              "      <td>Vecchio Birraio</td>\n",
              "      <td>6.2</td>\n",
              "      <td>10325</td>\n",
              "      <td>1235915097</td>\n",
              "      <td>Red Moon (English Strong Ale) by Vecchio Birraio</td>\n",
              "    </tr>\n",
              "    <tr>\n",
              "      <th>2</th>\n",
              "      <td>stcules</td>\n",
              "      <td>48215</td>\n",
              "      <td>3.0</td>\n",
              "      <td>3.0</td>\n",
              "      <td>2.5</td>\n",
              "      <td>3.0</td>\n",
              "      <td>3.0</td>\n",
              "      <td>Black Horse Black Beer</td>\n",
              "      <td>Foreign / Export Stout</td>\n",
              "      <td>Vecchio Birraio</td>\n",
              "      <td>6.5</td>\n",
              "      <td>10325</td>\n",
              "      <td>1235916604</td>\n",
              "      <td>Black Horse Black Beer (Foreign / Export Stout...</td>\n",
              "    </tr>\n",
              "    <tr>\n",
              "      <th>3</th>\n",
              "      <td>stcules</td>\n",
              "      <td>47969</td>\n",
              "      <td>3.0</td>\n",
              "      <td>3.5</td>\n",
              "      <td>3.0</td>\n",
              "      <td>3.0</td>\n",
              "      <td>2.5</td>\n",
              "      <td>Sausa Pils</td>\n",
              "      <td>German Pilsener</td>\n",
              "      <td>Vecchio Birraio</td>\n",
              "      <td>5.0</td>\n",
              "      <td>10325</td>\n",
              "      <td>1234725145</td>\n",
              "      <td>Sausa Pils (German Pilsener) by Vecchio Birraio</td>\n",
              "    </tr>\n",
              "    <tr>\n",
              "      <th>4</th>\n",
              "      <td>johnmichaelsen</td>\n",
              "      <td>64883</td>\n",
              "      <td>4.0</td>\n",
              "      <td>4.0</td>\n",
              "      <td>4.5</td>\n",
              "      <td>4.5</td>\n",
              "      <td>4.0</td>\n",
              "      <td>Cauldron DIPA</td>\n",
              "      <td>American Double / Imperial IPA</td>\n",
              "      <td>Caldera Brewing Company</td>\n",
              "      <td>7.7</td>\n",
              "      <td>1075</td>\n",
              "      <td>1293735206</td>\n",
              "      <td>Cauldron DIPA (American Double / Imperial IPA)...</td>\n",
              "    </tr>\n",
              "  </tbody>\n",
              "</table>\n",
              "</div>"
            ],
            "text/plain": [
              "           userid  beerid  rating_overall  rating_look  rating_smell  \\\n",
              "0         stcules   47986             1.5          2.5           2.0   \n",
              "1         stcules   48213             3.0          3.0           2.5   \n",
              "2         stcules   48215             3.0          3.0           2.5   \n",
              "3         stcules   47969             3.0          3.5           3.0   \n",
              "4  johnmichaelsen   64883             4.0          4.0           4.5   \n",
              "\n",
              "   rating_taste  rating_feel               beer_name  \\\n",
              "0           1.5          1.5            Sausa Weizen   \n",
              "1           3.0          3.0                Red Moon   \n",
              "2           3.0          3.0  Black Horse Black Beer   \n",
              "3           3.0          2.5              Sausa Pils   \n",
              "4           4.5          4.0           Cauldron DIPA   \n",
              "\n",
              "                       beer_style             brewery_name  beer_abv  \\\n",
              "0                      Hefeweizen          Vecchio Birraio       5.0   \n",
              "1              English Strong Ale          Vecchio Birraio       6.2   \n",
              "2          Foreign / Export Stout          Vecchio Birraio       6.5   \n",
              "3                 German Pilsener          Vecchio Birraio       5.0   \n",
              "4  American Double / Imperial IPA  Caldera Brewing Company       7.7   \n",
              "\n",
              "   breweryid  rating_time                                          beer_full  \n",
              "0      10325   1234817823       Sausa Weizen (Hefeweizen) by Vecchio Birraio  \n",
              "1      10325   1235915097   Red Moon (English Strong Ale) by Vecchio Birraio  \n",
              "2      10325   1235916604  Black Horse Black Beer (Foreign / Export Stout...  \n",
              "3      10325   1234725145    Sausa Pils (German Pilsener) by Vecchio Birraio  \n",
              "4       1075   1293735206  Cauldron DIPA (American Double / Imperial IPA)...  "
            ]
          },
          "execution_count": 4,
          "metadata": {},
          "output_type": "execute_result"
        }
      ],
      "source": [
        "df.head()"
      ]
    },
    {
      "cell_type": "code",
      "execution_count": 5,
      "metadata": {
        "colab": {
          "base_uri": "https://localhost:8080/",
          "height": 237
        },
        "id": "wNAy8dnKoFi5",
        "outputId": "d975eb88-c36e-44d9-9d53-c1c49ca86c24"
      },
      "outputs": [
        {
          "data": {
            "text/html": [
              "<div>\n",
              "<style scoped>\n",
              "    .dataframe tbody tr th:only-of-type {\n",
              "        vertical-align: middle;\n",
              "    }\n",
              "\n",
              "    .dataframe tbody tr th {\n",
              "        vertical-align: top;\n",
              "    }\n",
              "\n",
              "    .dataframe thead th {\n",
              "        text-align: right;\n",
              "    }\n",
              "</style>\n",
              "<table border=\"1\" class=\"dataframe\">\n",
              "  <thead>\n",
              "    <tr style=\"text-align: right;\">\n",
              "      <th></th>\n",
              "      <th>count</th>\n",
              "      <th>mean</th>\n",
              "      <th>std</th>\n",
              "      <th>min</th>\n",
              "      <th>25%</th>\n",
              "      <th>50%</th>\n",
              "      <th>75%</th>\n",
              "      <th>max</th>\n",
              "    </tr>\n",
              "  </thead>\n",
              "  <tbody>\n",
              "    <tr>\n",
              "      <th>rating_overall</th>\n",
              "      <td>1586244.0</td>\n",
              "      <td>3.815648</td>\n",
              "      <td>0.720549</td>\n",
              "      <td>1.00</td>\n",
              "      <td>3.5</td>\n",
              "      <td>4.0</td>\n",
              "      <td>4.5</td>\n",
              "      <td>5.0</td>\n",
              "    </tr>\n",
              "    <tr>\n",
              "      <th>rating_look</th>\n",
              "      <td>1586244.0</td>\n",
              "      <td>3.841694</td>\n",
              "      <td>0.616011</td>\n",
              "      <td>1.00</td>\n",
              "      <td>3.5</td>\n",
              "      <td>4.0</td>\n",
              "      <td>4.0</td>\n",
              "      <td>5.0</td>\n",
              "    </tr>\n",
              "    <tr>\n",
              "      <th>rating_smell</th>\n",
              "      <td>1586244.0</td>\n",
              "      <td>3.735693</td>\n",
              "      <td>0.697561</td>\n",
              "      <td>1.00</td>\n",
              "      <td>3.5</td>\n",
              "      <td>4.0</td>\n",
              "      <td>4.0</td>\n",
              "      <td>5.0</td>\n",
              "    </tr>\n",
              "    <tr>\n",
              "      <th>rating_taste</th>\n",
              "      <td>1586244.0</td>\n",
              "      <td>3.792932</td>\n",
              "      <td>0.731901</td>\n",
              "      <td>1.00</td>\n",
              "      <td>3.5</td>\n",
              "      <td>4.0</td>\n",
              "      <td>4.5</td>\n",
              "      <td>5.0</td>\n",
              "    </tr>\n",
              "    <tr>\n",
              "      <th>rating_feel</th>\n",
              "      <td>1586244.0</td>\n",
              "      <td>3.743762</td>\n",
              "      <td>0.682166</td>\n",
              "      <td>1.00</td>\n",
              "      <td>3.5</td>\n",
              "      <td>4.0</td>\n",
              "      <td>4.0</td>\n",
              "      <td>5.0</td>\n",
              "    </tr>\n",
              "    <tr>\n",
              "      <th>beer_abv</th>\n",
              "      <td>1586244.0</td>\n",
              "      <td>7.042497</td>\n",
              "      <td>2.272406</td>\n",
              "      <td>0.01</td>\n",
              "      <td>5.3</td>\n",
              "      <td>6.6</td>\n",
              "      <td>8.4</td>\n",
              "      <td>57.7</td>\n",
              "    </tr>\n",
              "  </tbody>\n",
              "</table>\n",
              "</div>"
            ],
            "text/plain": [
              "                    count      mean       std   min  25%  50%  75%   max\n",
              "rating_overall  1586244.0  3.815648  0.720549  1.00  3.5  4.0  4.5   5.0\n",
              "rating_look     1586244.0  3.841694  0.616011  1.00  3.5  4.0  4.0   5.0\n",
              "rating_smell    1586244.0  3.735693  0.697561  1.00  3.5  4.0  4.0   5.0\n",
              "rating_taste    1586244.0  3.792932  0.731901  1.00  3.5  4.0  4.5   5.0\n",
              "rating_feel     1586244.0  3.743762  0.682166  1.00  3.5  4.0  4.0   5.0\n",
              "beer_abv        1586244.0  7.042497  2.272406  0.01  5.3  6.6  8.4  57.7"
            ]
          },
          "execution_count": 5,
          "metadata": {},
          "output_type": "execute_result"
        }
      ],
      "source": [
        "df[[\"rating_overall\", \"rating_look\", \"rating_smell\", \"rating_taste\", \"rating_feel\", \"beer_abv\"]].describe().T"
      ]
    },
    {
      "cell_type": "code",
      "execution_count": 6,
      "metadata": {
        "colab": {
          "base_uri": "https://localhost:8080/",
          "height": 493
        },
        "id": "reFguuZ6sPOn",
        "outputId": "46a24b21-de42-4329-8c95-e9d9cc675e3e"
      },
      "outputs": [
        {
          "data": {
            "text/plain": [
              "<Axes: xlabel='rating_overall'>"
            ]
          },
          "execution_count": 6,
          "metadata": {},
          "output_type": "execute_result"
        },
        {
          "data": {
            "image/png": "[encoded data removed]",
            "text/plain": [
              "<Figure size 640x480 with 1 Axes>"
            ]
          },
          "metadata": {},
          "output_type": "display_data"
        }
      ],
      "source": [
        "df[\"rating_overall\"].value_counts().sort_index().plot(kind=\"bar\", rot=0)"
      ]
    },
    {
      "cell_type": "code",
      "execution_count": 7,
      "metadata": {
        "colab": {
          "base_uri": "https://localhost:8080/",
          "height": 473
        },
        "id": "GogO2QJpsiFq",
        "outputId": "beb24071-aa0b-484d-e88b-662eac3ffe0f"
      },
      "outputs": [
        {
          "data": {
            "text/plain": [
              "<Axes: >"
            ]
          },
          "execution_count": 7,
          "metadata": {},
          "output_type": "execute_result"
        },
        {
          "data": {
            "image/png": "[encoded data removed]",
            "text/plain": [
              "<Figure size 640x480 with 1 Axes>"
            ]
          },
          "metadata": {},
          "output_type": "display_data"
        }
      ],
      "source": [
        "sns.boxplot(df[[\"rating_look\", \"rating_smell\", \"rating_taste\", \"rating_feel\"]])"
      ]
    },
    {
      "cell_type": "code",
      "execution_count": 8,
      "metadata": {
        "colab": {
          "base_uri": "https://localhost:8080/",
          "height": 493
        },
        "id": "wYnjhHssyOEP",
        "outputId": "348d942c-2ec0-4fbd-8d09-321e32553622"
      },
      "outputs": [
        {
          "data": {
            "text/plain": [
              "<Axes: xlabel='%ABV (Alcohol by volume)', ylabel='Frequency'>"
            ]
          },
          "execution_count": 8,
          "metadata": {},
          "output_type": "execute_result"
        },
        {
          "data": {
            "image/png": "[encoded data removed]",
            "text/plain": [
              "<Figure size 640x480 with 1 Axes>"
            ]
          },
          "metadata": {},
          "output_type": "display_data"
        }
      ],
      "source": [
        "df[\"beer_abv\"].plot(kind=\"hist\", bins=16, range=[4, 12], density=True, xlabel=\"%ABV (Alcohol by volume)\")"
      ]
    },
    {
      "cell_type": "code",
      "execution_count": 9,
      "metadata": {
        "colab": {
          "base_uri": "https://localhost:8080/",
          "height": 551
        },
        "id": "sWaS2Ts-Ku3o",
        "outputId": "e4276076-50d0-421b-a1b6-fb49b581b656"
      },
      "outputs": [
        {
          "name": "stdout",
          "output_type": "stream",
          "text": [
            "Most Popular Beers\n"
          ]
        },
        {
          "data": {
            "text/html": [
              "<div>\n",
              "<style scoped>\n",
              "    .dataframe tbody tr th:only-of-type {\n",
              "        vertical-align: middle;\n",
              "    }\n",
              "\n",
              "    .dataframe tbody tr th {\n",
              "        vertical-align: top;\n",
              "    }\n",
              "\n",
              "    .dataframe thead th {\n",
              "        text-align: right;\n",
              "    }\n",
              "</style>\n",
              "<table border=\"1\" class=\"dataframe\">\n",
              "  <thead>\n",
              "    <tr style=\"text-align: right;\">\n",
              "      <th></th>\n",
              "      <th>mean</th>\n",
              "      <th>count</th>\n",
              "    </tr>\n",
              "    <tr>\n",
              "      <th>beer_full</th>\n",
              "      <th></th>\n",
              "      <th></th>\n",
              "    </tr>\n",
              "  </thead>\n",
              "  <tbody>\n",
              "    <tr>\n",
              "      <th>90 Minute IPA (American Double / Imperial IPA) by Dogfish Head Brewery</th>\n",
              "      <td>4.145485</td>\n",
              "      <td>3289</td>\n",
              "    </tr>\n",
              "    <tr>\n",
              "      <th>Old Rasputin Russian Imperial Stout (Russian Imperial Stout) by North Coast Brewing Co.</th>\n",
              "      <td>4.174116</td>\n",
              "      <td>3110</td>\n",
              "    </tr>\n",
              "    <tr>\n",
              "      <th>Sierra Nevada Celebration Ale (American IPA) by Sierra Nevada Brewing Co.</th>\n",
              "      <td>4.168556</td>\n",
              "      <td>2999</td>\n",
              "    </tr>\n",
              "    <tr>\n",
              "      <th>Two Hearted Ale (American IPA) by Bell's Brewery, Inc.</th>\n",
              "      <td>4.330216</td>\n",
              "      <td>2727</td>\n",
              "    </tr>\n",
              "    <tr>\n",
              "      <th>Stone Ruination IPA (American Double / Imperial IPA) by Stone Brewing Co.</th>\n",
              "      <td>4.161547</td>\n",
              "      <td>2702</td>\n",
              "    </tr>\n",
              "    <tr>\n",
              "      <th>Arrogant Bastard Ale (American Strong Ale) by Stone Brewing Co.</th>\n",
              "      <td>4.078090</td>\n",
              "      <td>2702</td>\n",
              "    </tr>\n",
              "    <tr>\n",
              "      <th>Sierra Nevada Pale Ale (American Pale Ale (APA)) by Sierra Nevada Brewing Co.</th>\n",
              "      <td>4.245845</td>\n",
              "      <td>2587</td>\n",
              "    </tr>\n",
              "    <tr>\n",
              "      <th>Stone IPA (India Pale Ale) (American IPA) by Stone Brewing Co.</th>\n",
              "      <td>4.257576</td>\n",
              "      <td>2574</td>\n",
              "    </tr>\n",
              "    <tr>\n",
              "      <th>Pliny The Elder (American Double / Imperial IPA) by Russian River Brewing Company</th>\n",
              "      <td>4.590028</td>\n",
              "      <td>2527</td>\n",
              "    </tr>\n",
              "    <tr>\n",
              "      <th>Founders Breakfast Stout (American Double / Imperial Stout) by Founders Brewing Company</th>\n",
              "      <td>4.354658</td>\n",
              "      <td>2501</td>\n",
              "    </tr>\n",
              "  </tbody>\n",
              "</table>\n",
              "</div>"
            ],
            "text/plain": [
              "                                                        mean  count\n",
              "beer_full                                                          \n",
              "90 Minute IPA (American Double / Imperial IPA) ...  4.145485   3289\n",
              "Old Rasputin Russian Imperial Stout (Russian Im...  4.174116   3110\n",
              "Sierra Nevada Celebration Ale (American IPA) by...  4.168556   2999\n",
              "Two Hearted Ale (American IPA) by Bell's Brewer...  4.330216   2727\n",
              "Stone Ruination IPA (American Double / Imperial...  4.161547   2702\n",
              "Arrogant Bastard Ale (American Strong Ale) by S...  4.078090   2702\n",
              "Sierra Nevada Pale Ale (American Pale Ale (APA)...  4.245845   2587\n",
              "Stone IPA (India Pale Ale) (American IPA) by St...  4.257576   2574\n",
              "Pliny The Elder (American Double / Imperial IPA...  4.590028   2527\n",
              "Founders Breakfast Stout (American Double / Imp...  4.354658   2501"
            ]
          },
          "execution_count": 9,
          "metadata": {},
          "output_type": "execute_result"
        }
      ],
      "source": [
        "print(\"Most Popular Beers\")\n",
        "df.groupby(\"beer_full\").agg(\n",
        "    mean=(\"rating_overall\", \"mean\"),\n",
        "    count=(\"rating_overall\", \"count\")\n",
        "    ).sort_values(\"count\", ascending=False).head(10)"
      ]
    },
    {
      "cell_type": "code",
      "execution_count": 10,
      "metadata": {
        "colab": {
          "base_uri": "https://localhost:8080/",
          "height": 534
        },
        "id": "NnbHEg385qhT",
        "outputId": "2949b7dc-8871-4dab-afe0-a9b9bae8bad6"
      },
      "outputs": [
        {
          "name": "stdout",
          "output_type": "stream",
          "text": [
            "Best Rated Beers\n"
          ]
        },
        {
          "data": {
            "text/html": [
              "<div>\n",
              "<style scoped>\n",
              "    .dataframe tbody tr th:only-of-type {\n",
              "        vertical-align: middle;\n",
              "    }\n",
              "\n",
              "    .dataframe tbody tr th {\n",
              "        vertical-align: top;\n",
              "    }\n",
              "\n",
              "    .dataframe thead th {\n",
              "        text-align: right;\n",
              "    }\n",
              "</style>\n",
              "<table border=\"1\" class=\"dataframe\">\n",
              "  <thead>\n",
              "    <tr style=\"text-align: right;\">\n",
              "      <th></th>\n",
              "      <th>mean</th>\n",
              "      <th>count</th>\n",
              "    </tr>\n",
              "    <tr>\n",
              "      <th>beer_full</th>\n",
              "      <th></th>\n",
              "      <th></th>\n",
              "    </tr>\n",
              "  </thead>\n",
              "  <tbody>\n",
              "    <tr>\n",
              "      <th>Citra DIPA (American Double / Imperial IPA) by Kern River Brewing Company</th>\n",
              "      <td>4.630952</td>\n",
              "      <td>252</td>\n",
              "    </tr>\n",
              "    <tr>\n",
              "      <th>Cantillon Blåbær Lambik (Lambic - Fruit) by Brasserie Cantillon</th>\n",
              "      <td>4.628205</td>\n",
              "      <td>156</td>\n",
              "    </tr>\n",
              "    <tr>\n",
              "      <th>Heady Topper (American Double / Imperial IPA) by The Alchemist</th>\n",
              "      <td>4.625800</td>\n",
              "      <td>469</td>\n",
              "    </tr>\n",
              "    <tr>\n",
              "      <th>Deviation - Bottleworks 9th Anniversary (American Wild Ale) by Russian River Brewing Company</th>\n",
              "      <td>4.620536</td>\n",
              "      <td>112</td>\n",
              "    </tr>\n",
              "    <tr>\n",
              "      <th>Trappist Westvleteren 12 (Quadrupel (Quad)) by Brouwerij Westvleteren (Sint-Sixtusabdij van Westvleteren)</th>\n",
              "      <td>4.617925</td>\n",
              "      <td>1272</td>\n",
              "    </tr>\n",
              "    <tr>\n",
              "      <th>Pliny The Younger (American Double / Imperial IPA) by Russian River Brewing Company</th>\n",
              "      <td>4.600000</td>\n",
              "      <td>610</td>\n",
              "    </tr>\n",
              "    <tr>\n",
              "      <th>Founders CBS Imperial Stout (American Double / Imperial Stout) by Founders Brewing Company</th>\n",
              "      <td>4.591052</td>\n",
              "      <td>637</td>\n",
              "    </tr>\n",
              "    <tr>\n",
              "      <th>Pliny The Elder (American Double / Imperial IPA) by Russian River Brewing Company</th>\n",
              "      <td>4.590028</td>\n",
              "      <td>2527</td>\n",
              "    </tr>\n",
              "    <tr>\n",
              "      <th>Live Oak HefeWeizen (Hefeweizen) by Live Oak Brewing Company</th>\n",
              "      <td>4.562112</td>\n",
              "      <td>322</td>\n",
              "    </tr>\n",
              "    <tr>\n",
              "      <th>Portsmouth Kate The Great (Russian Imperial Stout) by Portsmouth Brewery</th>\n",
              "      <td>4.546729</td>\n",
              "      <td>428</td>\n",
              "    </tr>\n",
              "  </tbody>\n",
              "</table>\n",
              "</div>"
            ],
            "text/plain": [
              "                                                        mean  count\n",
              "beer_full                                                          \n",
              "Citra DIPA (American Double / Imperial IPA) by ...  4.630952    252\n",
              "Cantillon Blåbær Lambik (Lambic - Fruit) by Bra...  4.628205    156\n",
              "Heady Topper (American Double / Imperial IPA) b...  4.625800    469\n",
              "Deviation - Bottleworks 9th Anniversary (Americ...  4.620536    112\n",
              "Trappist Westvleteren 12 (Quadrupel (Quad)) by ...  4.617925   1272\n",
              "Pliny The Younger (American Double / Imperial I...  4.600000    610\n",
              "Founders CBS Imperial Stout (American Double / ...  4.591052    637\n",
              "Pliny The Elder (American Double / Imperial IPA...  4.590028   2527\n",
              "Live Oak HefeWeizen (Hefeweizen) by Live Oak Br...  4.562112    322\n",
              "Portsmouth Kate The Great (Russian Imperial Sto...  4.546729    428"
            ]
          },
          "execution_count": 10,
          "metadata": {},
          "output_type": "execute_result"
        }
      ],
      "source": [
        "print(\"Best Rated Beers\")\n",
        "df.groupby(\"beer_full\").agg(\n",
        "    mean=(\"rating_overall\", \"mean\"),\n",
        "    count=(\"rating_overall\", \"count\")\n",
        "    ).loc[lambda x: x[\"count\"]>=100].sort_values(\"mean\", ascending=False).head(10)"
      ]
    },
    {
      "cell_type": "code",
      "execution_count": 11,
      "metadata": {
        "colab": {
          "base_uri": "https://localhost:8080/",
          "height": 516
        },
        "id": "6LP6cdULKsv7",
        "outputId": "e19004bb-09f1-4d87-b7a8-d613bb95b4f5"
      },
      "outputs": [
        {
          "name": "stdout",
          "output_type": "stream",
          "text": [
            "Worst Rated Beers\n"
          ]
        },
        {
          "data": {
            "text/html": [
              "<div>\n",
              "<style scoped>\n",
              "    .dataframe tbody tr th:only-of-type {\n",
              "        vertical-align: middle;\n",
              "    }\n",
              "\n",
              "    .dataframe tbody tr th {\n",
              "        vertical-align: top;\n",
              "    }\n",
              "\n",
              "    .dataframe thead th {\n",
              "        text-align: right;\n",
              "    }\n",
              "</style>\n",
              "<table border=\"1\" class=\"dataframe\">\n",
              "  <thead>\n",
              "    <tr style=\"text-align: right;\">\n",
              "      <th></th>\n",
              "      <th>mean</th>\n",
              "      <th>count</th>\n",
              "    </tr>\n",
              "    <tr>\n",
              "      <th>beer_full</th>\n",
              "      <th></th>\n",
              "      <th></th>\n",
              "    </tr>\n",
              "  </thead>\n",
              "  <tbody>\n",
              "    <tr>\n",
              "      <th>Crazy Ed's Cave Creek Chili Beer (Chile Beer) by Chili Beer Co.</th>\n",
              "      <td>1.488764</td>\n",
              "      <td>267</td>\n",
              "    </tr>\n",
              "    <tr>\n",
              "      <th>Original C Cave Creek Chili Beer - Cerveza Con Chili (Chile Beer) by Chili Beer Co.</th>\n",
              "      <td>1.681818</td>\n",
              "      <td>132</td>\n",
              "    </tr>\n",
              "    <tr>\n",
              "      <th>Bud Light Chelada (Fruit / Vegetable Beer) by Anheuser-Busch</th>\n",
              "      <td>1.710526</td>\n",
              "      <td>114</td>\n",
              "    </tr>\n",
              "    <tr>\n",
              "      <th>Wild Blue (Blueberry Lager) (Fruit / Vegetable Beer) by Anheuser-Busch</th>\n",
              "      <td>1.924116</td>\n",
              "      <td>481</td>\n",
              "    </tr>\n",
              "    <tr>\n",
              "      <th>Budweiser Chelada (Fruit / Vegetable Beer) by Anheuser-Busch</th>\n",
              "      <td>1.931159</td>\n",
              "      <td>138</td>\n",
              "    </tr>\n",
              "    <tr>\n",
              "      <th>Bud Extra (Herbed / Spiced Beer) by Anheuser-Busch</th>\n",
              "      <td>1.953125</td>\n",
              "      <td>128</td>\n",
              "    </tr>\n",
              "    <tr>\n",
              "      <th>Corona Light (Light Lager) by Grupo Modelo S.A. de C.V.</th>\n",
              "      <td>1.957602</td>\n",
              "      <td>342</td>\n",
              "    </tr>\n",
              "    <tr>\n",
              "      <th>Brewer Patriot Collection - 1790 Root Beer Brew (Herbed / Spiced Beer) by Boston Beer Company (Samuel Adams)</th>\n",
              "      <td>2.089286</td>\n",
              "      <td>196</td>\n",
              "    </tr>\n",
              "    <tr>\n",
              "      <th>Michelob Ultra (Light Lager) by Anheuser-Busch</th>\n",
              "      <td>2.159962</td>\n",
              "      <td>522</td>\n",
              "    </tr>\n",
              "    <tr>\n",
              "      <th>Budweiser Select 55 (Light Lager) by Anheuser-Busch</th>\n",
              "      <td>2.226415</td>\n",
              "      <td>106</td>\n",
              "    </tr>\n",
              "  </tbody>\n",
              "</table>\n",
              "</div>"
            ],
            "text/plain": [
              "                                                        mean  count\n",
              "beer_full                                                          \n",
              "Crazy Ed's Cave Creek Chili Beer (Chile Beer) b...  1.488764    267\n",
              "Original C Cave Creek Chili Beer - Cerveza Con ...  1.681818    132\n",
              "Bud Light Chelada (Fruit / Vegetable Beer) by A...  1.710526    114\n",
              "Wild Blue (Blueberry Lager) (Fruit / Vegetable ...  1.924116    481\n",
              "Budweiser Chelada (Fruit / Vegetable Beer) by A...  1.931159    138\n",
              "Bud Extra (Herbed / Spiced Beer) by Anheuser-Busch  1.953125    128\n",
              "Corona Light (Light Lager) by Grupo Modelo S.A....  1.957602    342\n",
              "Brewer Patriot Collection - 1790 Root Beer Brew...  2.089286    196\n",
              "Michelob Ultra (Light Lager) by Anheuser-Busch      2.159962    522\n",
              "Budweiser Select 55 (Light Lager) by Anheuser-B...  2.226415    106"
            ]
          },
          "execution_count": 11,
          "metadata": {},
          "output_type": "execute_result"
        }
      ],
      "source": [
        "print(\"Worst Rated Beers\")\n",
        "df.groupby(\"beer_full\").agg(\n",
        "    mean=(\"rating_overall\", \"mean\"),\n",
        "    count=(\"rating_overall\", \"count\")\n",
        "    ).loc[lambda x: x[\"count\"]>=100].sort_values(\"mean\").head(10)"
      ]
    },
    {
      "cell_type": "code",
      "execution_count": 12,
      "metadata": {
        "colab": {
          "base_uri": "https://localhost:8080/",
          "height": 412
        },
        "id": "4YBgCf55Njyk",
        "outputId": "5c4cf15a-8f92-4b40-befd-32dfb3f77324"
      },
      "outputs": [
        {
          "name": "stdout",
          "output_type": "stream",
          "text": [
            "Most Popular Beer Styles\n"
          ]
        },
        {
          "data": {
            "text/html": [
              "<div>\n",
              "<style scoped>\n",
              "    .dataframe tbody tr th:only-of-type {\n",
              "        vertical-align: middle;\n",
              "    }\n",
              "\n",
              "    .dataframe tbody tr th {\n",
              "        vertical-align: top;\n",
              "    }\n",
              "\n",
              "    .dataframe thead th {\n",
              "        text-align: right;\n",
              "    }\n",
              "</style>\n",
              "<table border=\"1\" class=\"dataframe\">\n",
              "  <thead>\n",
              "    <tr style=\"text-align: right;\">\n",
              "      <th></th>\n",
              "      <th>mean</th>\n",
              "      <th>count</th>\n",
              "    </tr>\n",
              "    <tr>\n",
              "      <th>beer_style</th>\n",
              "      <th></th>\n",
              "      <th></th>\n",
              "    </tr>\n",
              "  </thead>\n",
              "  <tbody>\n",
              "    <tr>\n",
              "      <th>American IPA</th>\n",
              "      <td>3.965207</td>\n",
              "      <td>117566</td>\n",
              "    </tr>\n",
              "    <tr>\n",
              "      <th>American Double / Imperial IPA</th>\n",
              "      <td>3.997987</td>\n",
              "      <td>85958</td>\n",
              "    </tr>\n",
              "    <tr>\n",
              "      <th>American Pale Ale (APA)</th>\n",
              "      <td>3.852432</td>\n",
              "      <td>63459</td>\n",
              "    </tr>\n",
              "    <tr>\n",
              "      <th>Russian Imperial Stout</th>\n",
              "      <td>4.023041</td>\n",
              "      <td>54120</td>\n",
              "    </tr>\n",
              "    <tr>\n",
              "      <th>American Double / Imperial Stout</th>\n",
              "      <td>4.029746</td>\n",
              "      <td>50696</td>\n",
              "    </tr>\n",
              "    <tr>\n",
              "      <th>American Porter</th>\n",
              "      <td>3.895707</td>\n",
              "      <td>50473</td>\n",
              "    </tr>\n",
              "    <tr>\n",
              "      <th>American Amber / Red Ale</th>\n",
              "      <td>3.781128</td>\n",
              "      <td>45739</td>\n",
              "    </tr>\n",
              "    <tr>\n",
              "      <th>Belgian Strong Dark Ale</th>\n",
              "      <td>3.913334</td>\n",
              "      <td>37731</td>\n",
              "    </tr>\n",
              "    <tr>\n",
              "      <th>Fruit / Vegetable Beer</th>\n",
              "      <td>3.415192</td>\n",
              "      <td>33859</td>\n",
              "    </tr>\n",
              "    <tr>\n",
              "      <th>American Strong Ale</th>\n",
              "      <td>3.873442</td>\n",
              "      <td>31938</td>\n",
              "    </tr>\n",
              "  </tbody>\n",
              "</table>\n",
              "</div>"
            ],
            "text/plain": [
              "                                      mean   count\n",
              "beer_style                                        \n",
              "American IPA                      3.965207  117566\n",
              "American Double / Imperial IPA    3.997987   85958\n",
              "American Pale Ale (APA)           3.852432   63459\n",
              "Russian Imperial Stout            4.023041   54120\n",
              "American Double / Imperial Stout  4.029746   50696\n",
              "American Porter                   3.895707   50473\n",
              "American Amber / Red Ale          3.781128   45739\n",
              "Belgian Strong Dark Ale           3.913334   37731\n",
              "Fruit / Vegetable Beer            3.415192   33859\n",
              "American Strong Ale               3.873442   31938"
            ]
          },
          "execution_count": 12,
          "metadata": {},
          "output_type": "execute_result"
        }
      ],
      "source": [
        "print(\"Most Popular Beer Styles\")\n",
        "df.groupby(\"beer_style\").agg(\n",
        "    mean=(\"rating_overall\", \"mean\"),\n",
        "    count=(\"rating_overall\", \"count\")\n",
        "    ).sort_values(\"count\", ascending=False).head(10)"
      ]
    },
    {
      "cell_type": "code",
      "execution_count": 13,
      "metadata": {
        "colab": {
          "base_uri": "https://localhost:8080/",
          "height": 412
        },
        "id": "JtwdnFwTNkcE",
        "outputId": "ec3960ab-077a-4fa4-dc8a-b68817a505e1"
      },
      "outputs": [
        {
          "name": "stdout",
          "output_type": "stream",
          "text": [
            "Most Popular Breweries\n"
          ]
        },
        {
          "data": {
            "text/html": [
              "<div>\n",
              "<style scoped>\n",
              "    .dataframe tbody tr th:only-of-type {\n",
              "        vertical-align: middle;\n",
              "    }\n",
              "\n",
              "    .dataframe tbody tr th {\n",
              "        vertical-align: top;\n",
              "    }\n",
              "\n",
              "    .dataframe thead th {\n",
              "        text-align: right;\n",
              "    }\n",
              "</style>\n",
              "<table border=\"1\" class=\"dataframe\">\n",
              "  <thead>\n",
              "    <tr style=\"text-align: right;\">\n",
              "      <th></th>\n",
              "      <th>mean</th>\n",
              "      <th>count</th>\n",
              "    </tr>\n",
              "    <tr>\n",
              "      <th>brewery_name</th>\n",
              "      <th></th>\n",
              "      <th></th>\n",
              "    </tr>\n",
              "  </thead>\n",
              "  <tbody>\n",
              "    <tr>\n",
              "      <th>Boston Beer Company (Samuel Adams)</th>\n",
              "      <td>3.689563</td>\n",
              "      <td>39438</td>\n",
              "    </tr>\n",
              "    <tr>\n",
              "      <th>Dogfish Head Brewery</th>\n",
              "      <td>3.836013</td>\n",
              "      <td>33829</td>\n",
              "    </tr>\n",
              "    <tr>\n",
              "      <th>Stone Brewing Co.</th>\n",
              "      <td>4.040193</td>\n",
              "      <td>33053</td>\n",
              "    </tr>\n",
              "    <tr>\n",
              "      <th>Sierra Nevada Brewing Co.</th>\n",
              "      <td>4.056182</td>\n",
              "      <td>28746</td>\n",
              "    </tr>\n",
              "    <tr>\n",
              "      <th>Bell's Brewery, Inc.</th>\n",
              "      <td>3.973064</td>\n",
              "      <td>25189</td>\n",
              "    </tr>\n",
              "    <tr>\n",
              "      <th>Rogue Ales</th>\n",
              "      <td>3.908842</td>\n",
              "      <td>24079</td>\n",
              "    </tr>\n",
              "    <tr>\n",
              "      <th>Founders Brewing Company</th>\n",
              "      <td>4.114475</td>\n",
              "      <td>20000</td>\n",
              "    </tr>\n",
              "    <tr>\n",
              "      <th>Victory Brewing Company</th>\n",
              "      <td>3.996328</td>\n",
              "      <td>19473</td>\n",
              "    </tr>\n",
              "    <tr>\n",
              "      <th>Lagunitas Brewing Company</th>\n",
              "      <td>3.955769</td>\n",
              "      <td>16832</td>\n",
              "    </tr>\n",
              "    <tr>\n",
              "      <th>Avery Brewing Company</th>\n",
              "      <td>3.814499</td>\n",
              "      <td>16105</td>\n",
              "    </tr>\n",
              "  </tbody>\n",
              "</table>\n",
              "</div>"
            ],
            "text/plain": [
              "                                        mean  count\n",
              "brewery_name                                       \n",
              "Boston Beer Company (Samuel Adams)  3.689563  39438\n",
              "Dogfish Head Brewery                3.836013  33829\n",
              "Stone Brewing Co.                   4.040193  33053\n",
              "Sierra Nevada Brewing Co.           4.056182  28746\n",
              "Bell's Brewery, Inc.                3.973064  25189\n",
              "Rogue Ales                          3.908842  24079\n",
              "Founders Brewing Company            4.114475  20000\n",
              "Victory Brewing Company             3.996328  19473\n",
              "Lagunitas Brewing Company           3.955769  16832\n",
              "Avery Brewing Company               3.814499  16105"
            ]
          },
          "execution_count": 13,
          "metadata": {},
          "output_type": "execute_result"
        }
      ],
      "source": [
        "print(\"Most Popular Breweries\")\n",
        "df.groupby(\"brewery_name\").agg(\n",
        "    mean=(\"rating_overall\", \"mean\"),\n",
        "    count=(\"rating_overall\", \"count\")\n",
        "    ).sort_values(\"count\", ascending=False).head(10)"
      ]
    },
    {
      "cell_type": "code",
      "execution_count": 14,
      "metadata": {
        "id": "aSiCo6OzwZx0"
      },
      "outputs": [],
      "source": [
        "rating, min_quality, min_quantity = \"rating_overall\", 3, 10\n",
        "l1_reg, l2_reg = 0.001, 0.0001\n",
        "threads = max(1, mp.cpu_count()-2)\n",
        "N = 10\n",
        "\n",
        "df = df[[\"userid\", \"beerid\", rating, \"beer_full\"]]\n",
        "df = df[df[rating] >= min_quality]\n",
        "df_temp = df[\"userid\"].value_counts()\n",
        "df = df[df[\"userid\"].isin(df_temp[df_temp >= min_quantity].index)]\n",
        "df_temp = df[\"beerid\"].value_counts()\n",
        "df = df[df[\"beerid\"].isin(df_temp[df_temp >= min_quantity].index)]\n",
        "df.reset_index(drop=True, inplace=True)\n",
        "U, T = np.sort(df[\"userid\"].unique()), np.sort(df[\"beerid\"].unique())\n",
        "m, n = len(U), len(T)\n",
        "df[\"userid\"] = df[\"userid\"].map({userid: index for index, userid in enumerate(U)})\n",
        "df[\"beerid\"] = df[\"beerid\"].map({beerid: index for index, beerid in enumerate(T)})\n",
        "\n",
        "model = ElasticNet(alpha=l1_reg+l2_reg,\n",
        "                   l1_ratio=l1_reg/(l1_reg+l2_reg),\n",
        "                   positive=True, fit_intercept=False, copy_X=False)\n",
        "model_knn = NearestNeighbors(n_neighbors=int(n/10))"
      ]
    },
    {
      "cell_type": "code",
      "execution_count": 15,
      "metadata": {
        "id": "eObITIXgV-ys"
      },
      "outputs": [],
      "source": [
        "def get_train_test(df):\n",
        "    test = df.groupby(\"userid\", group_keys=False).apply(lambda grp: grp.sample(n=1))\n",
        "    train = df.drop(test.index)\n",
        "    return train, test"
      ]
    },
    {
      "cell_type": "code",
      "execution_count": 16,
      "metadata": {
        "id": "NOpks-cC23rK"
      },
      "outputs": [],
      "source": [
        "def get_A(train):\n",
        "    A = lil_matrix((m, n))\n",
        "    for row in zip(train[\"userid\"], train[\"beerid\"], train[rating]):\n",
        "        A[row[0], row[1]] = row[2]\n",
        "    return A"
      ]
    },
    {
      "cell_type": "code",
      "execution_count": 17,
      "metadata": {
        "id": "qhRegADvCgCb"
      },
      "outputs": [],
      "source": [
        "def get_A_hat(A):\n",
        "    m, n = A.shape\n",
        "    W = lil_matrix((n, n))\n",
        "    for j in range(n):\n",
        "        a_j = A[:, j].copy()\n",
        "        A[:, j] = 0\n",
        "        model.fit(A, a_j.toarray())\n",
        "        A[:, j] = a_j\n",
        "        w_j = model.coef_\n",
        "        w_j[w_j < 0] = 0\n",
        "        for index in w_j.nonzero()[0]:\n",
        "            W[(index, j)] = w_j[index]\n",
        "    return (A @ W).tolil()"
      ]
    },
    {
      "cell_type": "code",
      "execution_count": 18,
      "metadata": {
        "id": "08f7rV7hEHya"
      },
      "outputs": [],
      "source": [
        "def parallel(params):\n",
        "    A = params[2]\n",
        "    for j in range(params[0], params[1]):\n",
        "        a_j = A[:, j].copy()\n",
        "        A[:, j] = 0\n",
        "        model.fit(A, a_j.toarray())\n",
        "        A[:, j] = a_j\n",
        "        w_j = model.coef_\n",
        "        w_j[w_j < 0] = 0\n",
        "        for index in w_j.nonzero()[0]:\n",
        "            W_[(index, j)] = w_j[index]\n",
        "\n",
        "def get_A_hat_parallel(A):\n",
        "    m, n = A.shape\n",
        "    global W_\n",
        "    W_ = np.ctypeslib.as_array(\n",
        "        mp.Array(ctypes.c_double, n*n).get_obj()\n",
        "        ).reshape(n, n)\n",
        "    n_ = math.ceil(n/threads)\n",
        "    params = []\n",
        "    for i in range(threads-1):\n",
        "        params.append([i*n_, (i+1)*n_, A])\n",
        "    params.append([(i+1)*n_, n, A])\n",
        "    with ProcessPoolExecutor() as executor:\n",
        "        executor.map(parallel, params)\n",
        "    return lil_matrix(A @ W_)"
      ]
    },
    {
      "cell_type": "code",
      "execution_count": 19,
      "metadata": {},
      "outputs": [],
      "source": [
        "def get_A_hat_fs(A):\n",
        "    m, n = A.shape\n",
        "    A_csc = A.tocsc(copy=True)\n",
        "    model_knn.fit(A.transpose(copy=True))\n",
        "    nn = model_knn.kneighbors(return_distance=False)\n",
        "    W = lil_matrix((n, n))\n",
        "    for j in range(n):\n",
        "        a_j = A[:, j].copy()\n",
        "        model.fit(A_csc[:, nn[j]], a_j.toarray())\n",
        "        w_j = model.coef_\n",
        "        w_j[w_j < 0] = 0\n",
        "        for index in w_j.nonzero()[0]:\n",
        "            W[(index, j)] = w_j[index]\n",
        "    return (A @ W).tolil()"
      ]
    },
    {
      "cell_type": "code",
      "execution_count": 20,
      "metadata": {
        "id": "o9zCNRwwiZ9a"
      },
      "outputs": [],
      "source": [
        "def get_recs(A_hat, A):\n",
        "    m, n = A_hat.shape\n",
        "    recs = []\n",
        "    for i in range(m):\n",
        "        recs.append([])\n",
        "        for j in A_hat[i].nonzero()[1]:\n",
        "            if (A[(i, j)] == 0):\n",
        "                recs[-1].append((j, A_hat[(i, j)]))\n",
        "        recs[-1].sort(key=lambda x: x[1], reverse=True)\n",
        "        recs[-1] = [pair[0] for pair in recs[-1][:N]]\n",
        "    return recs"
      ]
    },
    {
      "cell_type": "code",
      "execution_count": 21,
      "metadata": {
        "id": "m9gMCsqdajLE"
      },
      "outputs": [],
      "source": [
        "def display_user_recs(df, recs, userid):\n",
        "    print(f\"Top {N} Beer Recommendations for User#{userid}\\n\")\n",
        "    for rec in recs[userid]:\n",
        "        print(df[df[\"beerid\"] == rec][\"beer_full\"].tolist()[0])"
      ]
    },
    {
      "cell_type": "code",
      "execution_count": 22,
      "metadata": {
        "id": "VRjhykrf_POu"
      },
      "outputs": [],
      "source": [
        "def get_HR_ARHR(recs, test):\n",
        "    test.reset_index(drop=True, inplace=True)\n",
        "    HR, ARHR = 0, 0\n",
        "    for i in range(m):\n",
        "        try:\n",
        "            p = recs[i].index(test[\"beerid\"][i]) + 1\n",
        "            HR += 1\n",
        "            ARHR += (1 / p)\n",
        "        except ValueError:\n",
        "            continue\n",
        "    return (HR/m, ARHR/m)"
      ]
    },
    {
      "cell_type": "code",
      "execution_count": 23,
      "metadata": {
        "id": "wVygQR7yyZwG"
      },
      "outputs": [],
      "source": [
        "train, test = get_train_test(df)\n",
        "A = get_A(train)"
      ]
    },
    {
      "cell_type": "code",
      "execution_count": 24,
      "metadata": {},
      "outputs": [
        {
          "name": "stdout",
          "output_type": "stream",
          "text": [
            "Hit Rate (HR): 0.29740661432310256\n",
            "Average Reciprocal Hit-Rank (ARHR): 0.13777866527688062\n"
          ]
        }
      ],
      "source": [
        "A_hat = get_A_hat(A)\n",
        "recs = get_recs(A_hat, A)\n",
        "HR, ARHR = get_HR_ARHR(recs, test)\n",
        "print(f\"Hit Rate (HR): {HR}\\nAverage Reciprocal Hit-Rank (ARHR): {ARHR}\")"
      ]
    },
    {
      "cell_type": "code",
      "execution_count": 25,
      "metadata": {},
      "outputs": [
        {
          "name": "stdout",
          "output_type": "stream",
          "text": [
            "Hit Rate (HR): 0.29740661432310256\n",
            "Average Reciprocal Hit-Rank (ARHR): 0.13777866527688062\n"
          ]
        }
      ],
      "source": [
        "A_hat = get_A_hat_parallel(A)\n",
        "recs = get_recs(A_hat, A)\n",
        "HR, ARHR = get_HR_ARHR(recs, test)\n",
        "print(f\"Hit Rate (HR): {HR}\\nAverage Reciprocal Hit-Rank (ARHR): {ARHR}\")"
      ]
    },
    {
      "cell_type": "code",
      "execution_count": 26,
      "metadata": {},
      "outputs": [
        {
          "name": "stdout",
          "output_type": "stream",
          "text": [
            "Hit Rate (HR): 0.025220080894599095\n",
            "Average Reciprocal Hit-Rank (ARHR): 0.008798703873650343\n"
          ]
        }
      ],
      "source": [
        "A_hat = get_A_hat_fs(A)\n",
        "recs = get_recs(A_hat, A)\n",
        "HR, ARHR = get_HR_ARHR(recs, test)\n",
        "print(f\"Hit Rate (HR): {HR}\\nAverage Reciprocal Hit-Rank (ARHR): {ARHR}\")"
      ]
    },
    {
      "cell_type": "code",
      "execution_count": 27,
      "metadata": {},
      "outputs": [
        {
          "name": "stdout",
          "output_type": "stream",
          "text": [
            "Hit Rate (HR): 0.30563882940756604\n",
            "Average Reciprocal Hit-Rank (ARHR): 0.13807850779299752\n"
          ]
        }
      ],
      "source": [
        "HR_avg, ARHR_avg = [0.0, 0.0]\n",
        "for i in range(5):\n",
        "  train, test = get_train_test(df)\n",
        "  A = get_A(train)\n",
        "  A_hat = get_A_hat_parallel(A)\n",
        "  recs = get_recs(A_hat, A)\n",
        "  HR, ARHR = get_HR_ARHR(recs, test)\n",
        "  HR_avg += HR\n",
        "  ARHR_avg += ARHR\n",
        "HR_avg /= 5\n",
        "ARHR_avg /= 5\n",
        "print(f\"Hit Rate (HR): {HR_avg}\\nAverage Reciprocal Hit-Rank (ARHR): {ARHR_avg}\")"
      ]
    }
  ],
  "metadata": {
    "colab": {
      "provenance": []
    },
    "kernelspec": {
      "display_name": "Python 3",
      "name": "python3"
    },
    "language_info": {
      "codemirror_mode": {
        "name": "ipython",
        "version": 3
      },
      "file_extension": ".py",
      "mimetype": "text/x-python",
      "name": "python",
      "nbconvert_exporter": "python",
      "pygments_lexer": "ipython3",
      "version": "3.11.8"
    }
  },
  "nbformat": 4,
  "nbformat_minor": 0
}
