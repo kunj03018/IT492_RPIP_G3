{
  "cells": [
    {
      "cell_type": "code",
      "execution_count": 1,
      "metadata": {
        "colab": {
          "base_uri": "https://localhost:8080/"
        },
        "id": "FetJ_6DBm__L",
        "outputId": "6a56ad94-5f77-427a-f44d-a788008b7f69"
      },
      "outputs": [],
      "source": [
        "import warnings\n",
        "warnings.filterwarnings(\"ignore\")\n",
        "import math\n",
        "import numpy as np\n",
        "import matplotlib.pyplot as plt\n",
        "import pandas as pd\n",
        "import seaborn as sns\n",
        "import ctypes\n",
        "\n",
        "from scipy.sparse import lil_matrix\n",
        "from sklearn.linear_model import ElasticNet\n",
        "from sklearn.neighbors import NearestNeighbors\n",
        "import multiprocessing as mp\n",
        "from concurrent.futures import ProcessPoolExecutor\n",
        "\n",
        "from matplotlib import style\n",
        "%matplotlib inline\n",
        "style.use(\"fivethirtyeight\")\n",
        "sns.set_theme(style=\"whitegrid\", color_codes=True)\n",
        "\n",
        "# from google.colab import drive\n",
        "# drive.mount(\"/content/gdrive\", force_remount=True)"
      ]
    },
    {
      "cell_type": "code",
      "execution_count": 2,
      "metadata": {
        "id": "FWqcKa_4Bvbt"
      },
      "outputs": [],
      "source": [
        "# Dataset Link: https://www.kaggle.com/datasets/rdoume/beerreviews\n",
        "df = pd.read_csv(\"./dataset/beer_reviews_medium.csv\")\n",
        "df.columns = [\"breweryid\", \"brewery_name\", \"rating_time\", \"rating_overall\", \"rating_smell\", \"rating_look\", \"userid\", \"beer_style\", \"rating_feel\", \"rating_taste\", \"beer_name\", \"beer_abv\", \"beerid\"]\n",
        "df = df[[\"userid\", \"beerid\", \"rating_overall\", \"rating_look\", \"rating_smell\", \"rating_taste\", \"rating_feel\", \"beer_name\", \"beer_style\", \"brewery_name\", \"beer_abv\", \"breweryid\", \"rating_time\"]]\n",
        "\n",
        "df[\"beer_abv\"].fillna(df[\"beer_abv\"].mean(), inplace=True)\n",
        "df.dropna(inplace=True)\n",
        "df.drop_duplicates(inplace=True)\n",
        "df.drop(index=df[df[\"rating_overall\"].isin([0.0])].index, inplace=True)\n",
        "df[\"beer_full\"] = df[\"beer_name\"] + \" (\" + df[\"beer_style\"] + \") by \" + df[\"brewery_name\"]\n",
        "df.reset_index(drop=True, inplace=True)"
      ]
    },
    {
      "cell_type": "code",
      "execution_count": 3,
      "metadata": {
        "colab": {
          "base_uri": "https://localhost:8080/"
        },
        "id": "kUEMs5tQdLra",
        "outputId": "46a8943e-ad3b-42d9-e9d0-3c0fda679161"
      },
      "outputs": [
        {
          "name": "stdout",
          "output_type": "stream",
          "text": [
            "<class 'pandas.core.frame.DataFrame'>\n",
            "RangeIndex: 249931 entries, 0 to 249930\n",
            "Data columns (total 14 columns):\n",
            " #   Column          Non-Null Count   Dtype  \n",
            "---  ------          --------------   -----  \n",
            " 0   userid          249931 non-null  object \n",
            " 1   beerid          249931 non-null  int64  \n",
            " 2   rating_overall  249931 non-null  float64\n",
            " 3   rating_look     249931 non-null  float64\n",
            " 4   rating_smell    249931 non-null  float64\n",
            " 5   rating_taste    249931 non-null  float64\n",
            " 6   rating_feel     249931 non-null  float64\n",
            " 7   beer_name       249931 non-null  object \n",
            " 8   beer_style      249931 non-null  object \n",
            " 9   brewery_name    249931 non-null  object \n",
            " 10  beer_abv        249931 non-null  float64\n",
            " 11  breweryid       249931 non-null  int64  \n",
            " 12  rating_time     249931 non-null  int64  \n",
            " 13  beer_full       249931 non-null  object \n",
            "dtypes: float64(6), int64(3), object(5)\n",
            "memory usage: 26.7+ MB\n"
          ]
        }
      ],
      "source": [
        "df.info()"
      ]
    },
    {
      "cell_type": "code",
      "execution_count": 4,
      "metadata": {
        "colab": {
          "base_uri": "https://localhost:8080/",
          "height": 590
        },
        "id": "6cu_vriWdIsL",
        "outputId": "009bf13f-e517-47ac-e4e3-9d009dbd43a1"
      },
      "outputs": [
        {
          "data": {
            "text/html": [
              "<div>\n",
              "<style scoped>\n",
              "    .dataframe tbody tr th:only-of-type {\n",
              "        vertical-align: middle;\n",
              "    }\n",
              "\n",
              "    .dataframe tbody tr th {\n",
              "        vertical-align: top;\n",
              "    }\n",
              "\n",
              "    .dataframe thead th {\n",
              "        text-align: right;\n",
              "    }\n",
              "</style>\n",
              "<table border=\"1\" class=\"dataframe\">\n",
              "  <thead>\n",
              "    <tr style=\"text-align: right;\">\n",
              "      <th></th>\n",
              "      <th>userid</th>\n",
              "      <th>beerid</th>\n",
              "      <th>rating_overall</th>\n",
              "      <th>rating_look</th>\n",
              "      <th>rating_smell</th>\n",
              "      <th>rating_taste</th>\n",
              "      <th>rating_feel</th>\n",
              "      <th>beer_name</th>\n",
              "      <th>beer_style</th>\n",
              "      <th>brewery_name</th>\n",
              "      <th>beer_abv</th>\n",
              "      <th>breweryid</th>\n",
              "      <th>rating_time</th>\n",
              "      <th>beer_full</th>\n",
              "    </tr>\n",
              "  </thead>\n",
              "  <tbody>\n",
              "    <tr>\n",
              "      <th>0</th>\n",
              "      <td>stcules</td>\n",
              "      <td>47986</td>\n",
              "      <td>1.5</td>\n",
              "      <td>2.5</td>\n",
              "      <td>2.0</td>\n",
              "      <td>1.5</td>\n",
              "      <td>1.5</td>\n",
              "      <td>Sausa Weizen</td>\n",
              "      <td>Hefeweizen</td>\n",
              "      <td>Vecchio Birraio</td>\n",
              "      <td>5.0</td>\n",
              "      <td>10325</td>\n",
              "      <td>1234817823</td>\n",
              "      <td>Sausa Weizen (Hefeweizen) by Vecchio Birraio</td>\n",
              "    </tr>\n",
              "    <tr>\n",
              "      <th>1</th>\n",
              "      <td>stcules</td>\n",
              "      <td>48213</td>\n",
              "      <td>3.0</td>\n",
              "      <td>3.0</td>\n",
              "      <td>2.5</td>\n",
              "      <td>3.0</td>\n",
              "      <td>3.0</td>\n",
              "      <td>Red Moon</td>\n",
              "      <td>English Strong Ale</td>\n",
              "      <td>Vecchio Birraio</td>\n",
              "      <td>6.2</td>\n",
              "      <td>10325</td>\n",
              "      <td>1235915097</td>\n",
              "      <td>Red Moon (English Strong Ale) by Vecchio Birraio</td>\n",
              "    </tr>\n",
              "    <tr>\n",
              "      <th>2</th>\n",
              "      <td>stcules</td>\n",
              "      <td>48215</td>\n",
              "      <td>3.0</td>\n",
              "      <td>3.0</td>\n",
              "      <td>2.5</td>\n",
              "      <td>3.0</td>\n",
              "      <td>3.0</td>\n",
              "      <td>Black Horse Black Beer</td>\n",
              "      <td>Foreign / Export Stout</td>\n",
              "      <td>Vecchio Birraio</td>\n",
              "      <td>6.5</td>\n",
              "      <td>10325</td>\n",
              "      <td>1235916604</td>\n",
              "      <td>Black Horse Black Beer (Foreign / Export Stout...</td>\n",
              "    </tr>\n",
              "    <tr>\n",
              "      <th>3</th>\n",
              "      <td>stcules</td>\n",
              "      <td>47969</td>\n",
              "      <td>3.0</td>\n",
              "      <td>3.5</td>\n",
              "      <td>3.0</td>\n",
              "      <td>3.0</td>\n",
              "      <td>2.5</td>\n",
              "      <td>Sausa Pils</td>\n",
              "      <td>German Pilsener</td>\n",
              "      <td>Vecchio Birraio</td>\n",
              "      <td>5.0</td>\n",
              "      <td>10325</td>\n",
              "      <td>1234725145</td>\n",
              "      <td>Sausa Pils (German Pilsener) by Vecchio Birraio</td>\n",
              "    </tr>\n",
              "    <tr>\n",
              "      <th>4</th>\n",
              "      <td>johnmichaelsen</td>\n",
              "      <td>64883</td>\n",
              "      <td>4.0</td>\n",
              "      <td>4.0</td>\n",
              "      <td>4.5</td>\n",
              "      <td>4.5</td>\n",
              "      <td>4.0</td>\n",
              "      <td>Cauldron DIPA</td>\n",
              "      <td>American Double / Imperial IPA</td>\n",
              "      <td>Caldera Brewing Company</td>\n",
              "      <td>7.7</td>\n",
              "      <td>1075</td>\n",
              "      <td>1293735206</td>\n",
              "      <td>Cauldron DIPA (American Double / Imperial IPA)...</td>\n",
              "    </tr>\n",
              "  </tbody>\n",
              "</table>\n",
              "</div>"
            ],
            "text/plain": [
              "           userid  beerid  rating_overall  rating_look  rating_smell  \\\n",
              "0         stcules   47986             1.5          2.5           2.0   \n",
              "1         stcules   48213             3.0          3.0           2.5   \n",
              "2         stcules   48215             3.0          3.0           2.5   \n",
              "3         stcules   47969             3.0          3.5           3.0   \n",
              "4  johnmichaelsen   64883             4.0          4.0           4.5   \n",
              "\n",
              "   rating_taste  rating_feel               beer_name  \\\n",
              "0           1.5          1.5            Sausa Weizen   \n",
              "1           3.0          3.0                Red Moon   \n",
              "2           3.0          3.0  Black Horse Black Beer   \n",
              "3           3.0          2.5              Sausa Pils   \n",
              "4           4.5          4.0           Cauldron DIPA   \n",
              "\n",
              "                       beer_style             brewery_name  beer_abv  \\\n",
              "0                      Hefeweizen          Vecchio Birraio       5.0   \n",
              "1              English Strong Ale          Vecchio Birraio       6.2   \n",
              "2          Foreign / Export Stout          Vecchio Birraio       6.5   \n",
              "3                 German Pilsener          Vecchio Birraio       5.0   \n",
              "4  American Double / Imperial IPA  Caldera Brewing Company       7.7   \n",
              "\n",
              "   breweryid  rating_time                                          beer_full  \n",
              "0      10325   1234817823       Sausa Weizen (Hefeweizen) by Vecchio Birraio  \n",
              "1      10325   1235915097   Red Moon (English Strong Ale) by Vecchio Birraio  \n",
              "2      10325   1235916604  Black Horse Black Beer (Foreign / Export Stout...  \n",
              "3      10325   1234725145    Sausa Pils (German Pilsener) by Vecchio Birraio  \n",
              "4       1075   1293735206  Cauldron DIPA (American Double / Imperial IPA)...  "
            ]
          },
          "execution_count": 4,
          "metadata": {},
          "output_type": "execute_result"
        }
      ],
      "source": [
        "df.head()"
      ]
    },
    {
      "cell_type": "code",
      "execution_count": 5,
      "metadata": {
        "colab": {
          "base_uri": "https://localhost:8080/",
          "height": 237
        },
        "id": "wNAy8dnKoFi5",
        "outputId": "d975eb88-c36e-44d9-9d53-c1c49ca86c24"
      },
      "outputs": [
        {
          "data": {
            "text/html": [
              "<div>\n",
              "<style scoped>\n",
              "    .dataframe tbody tr th:only-of-type {\n",
              "        vertical-align: middle;\n",
              "    }\n",
              "\n",
              "    .dataframe tbody tr th {\n",
              "        vertical-align: top;\n",
              "    }\n",
              "\n",
              "    .dataframe thead th {\n",
              "        text-align: right;\n",
              "    }\n",
              "</style>\n",
              "<table border=\"1\" class=\"dataframe\">\n",
              "  <thead>\n",
              "    <tr style=\"text-align: right;\">\n",
              "      <th></th>\n",
              "      <th>count</th>\n",
              "      <th>mean</th>\n",
              "      <th>std</th>\n",
              "      <th>min</th>\n",
              "      <th>25%</th>\n",
              "      <th>50%</th>\n",
              "      <th>75%</th>\n",
              "      <th>max</th>\n",
              "    </tr>\n",
              "  </thead>\n",
              "  <tbody>\n",
              "    <tr>\n",
              "      <th>rating_overall</th>\n",
              "      <td>249931.0</td>\n",
              "      <td>3.871633</td>\n",
              "      <td>0.682615</td>\n",
              "      <td>1.00</td>\n",
              "      <td>3.5</td>\n",
              "      <td>4.0</td>\n",
              "      <td>4.5</td>\n",
              "      <td>5.0</td>\n",
              "    </tr>\n",
              "    <tr>\n",
              "      <th>rating_look</th>\n",
              "      <td>249931.0</td>\n",
              "      <td>3.904494</td>\n",
              "      <td>0.585477</td>\n",
              "      <td>1.00</td>\n",
              "      <td>3.5</td>\n",
              "      <td>4.0</td>\n",
              "      <td>4.5</td>\n",
              "      <td>5.0</td>\n",
              "    </tr>\n",
              "    <tr>\n",
              "      <th>rating_smell</th>\n",
              "      <td>249931.0</td>\n",
              "      <td>3.813078</td>\n",
              "      <td>0.661764</td>\n",
              "      <td>1.00</td>\n",
              "      <td>3.5</td>\n",
              "      <td>4.0</td>\n",
              "      <td>4.0</td>\n",
              "      <td>5.0</td>\n",
              "    </tr>\n",
              "    <tr>\n",
              "      <th>rating_taste</th>\n",
              "      <td>249931.0</td>\n",
              "      <td>3.867876</td>\n",
              "      <td>0.693023</td>\n",
              "      <td>1.00</td>\n",
              "      <td>3.5</td>\n",
              "      <td>4.0</td>\n",
              "      <td>4.5</td>\n",
              "      <td>5.0</td>\n",
              "    </tr>\n",
              "    <tr>\n",
              "      <th>rating_feel</th>\n",
              "      <td>249931.0</td>\n",
              "      <td>3.813180</td>\n",
              "      <td>0.648140</td>\n",
              "      <td>1.00</td>\n",
              "      <td>3.5</td>\n",
              "      <td>4.0</td>\n",
              "      <td>4.0</td>\n",
              "      <td>5.0</td>\n",
              "    </tr>\n",
              "    <tr>\n",
              "      <th>beer_abv</th>\n",
              "      <td>249931.0</td>\n",
              "      <td>7.324152</td>\n",
              "      <td>2.163466</td>\n",
              "      <td>0.05</td>\n",
              "      <td>5.5</td>\n",
              "      <td>7.0</td>\n",
              "      <td>9.0</td>\n",
              "      <td>57.7</td>\n",
              "    </tr>\n",
              "  </tbody>\n",
              "</table>\n",
              "</div>"
            ],
            "text/plain": [
              "                   count      mean       std   min  25%  50%  75%   max\n",
              "rating_overall  249931.0  3.871633  0.682615  1.00  3.5  4.0  4.5   5.0\n",
              "rating_look     249931.0  3.904494  0.585477  1.00  3.5  4.0  4.5   5.0\n",
              "rating_smell    249931.0  3.813078  0.661764  1.00  3.5  4.0  4.0   5.0\n",
              "rating_taste    249931.0  3.867876  0.693023  1.00  3.5  4.0  4.5   5.0\n",
              "rating_feel     249931.0  3.813180  0.648140  1.00  3.5  4.0  4.0   5.0\n",
              "beer_abv        249931.0  7.324152  2.163466  0.05  5.5  7.0  9.0  57.7"
            ]
          },
          "execution_count": 5,
          "metadata": {},
          "output_type": "execute_result"
        }
      ],
      "source": [
        "df[[\"rating_overall\", \"rating_look\", \"rating_smell\", \"rating_taste\", \"rating_feel\", \"beer_abv\"]].describe().T"
      ]
    },
    {
      "cell_type": "code",
      "execution_count": 6,
      "metadata": {
        "colab": {
          "base_uri": "https://localhost:8080/",
          "height": 493
        },
        "id": "reFguuZ6sPOn",
        "outputId": "46a24b21-de42-4329-8c95-e9d9cc675e3e"
      },
      "outputs": [
        {
          "data": {
            "text/plain": [
              "<Axes: xlabel='rating_overall'>"
            ]
          },
          "execution_count": 6,
          "metadata": {},
          "output_type": "execute_result"
        },
        {
          "data": {
            "image/png": "[encoded data removed]",
            "text/plain": [
              "<Figure size 640x480 with 1 Axes>"
            ]
          },
          "metadata": {},
          "output_type": "display_data"
        }
      ],
      "source": [
        "df[\"rating_overall\"].value_counts().sort_index().plot(kind=\"bar\", rot=0)"
      ]
    },
    {
      "cell_type": "code",
      "execution_count": 7,
      "metadata": {
        "colab": {
          "base_uri": "https://localhost:8080/",
          "height": 473
        },
        "id": "GogO2QJpsiFq",
        "outputId": "beb24071-aa0b-484d-e88b-662eac3ffe0f"
      },
      "outputs": [
        {
          "data": {
            "text/plain": [
              "<Axes: >"
            ]
          },
          "execution_count": 7,
          "metadata": {},
          "output_type": "execute_result"
        },
        {
          "data": {
            "image/png": "[encoded data removed]",
            "text/plain": [
              "<Figure size 640x480 with 1 Axes>"
            ]
          },
          "metadata": {},
          "output_type": "display_data"
        }
      ],
      "source": [
        "sns.boxplot(df[[\"rating_look\", \"rating_smell\", \"rating_taste\", \"rating_feel\"]])"
      ]
    },
    {
      "cell_type": "code",
      "execution_count": 8,
      "metadata": {
        "colab": {
          "base_uri": "https://localhost:8080/",
          "height": 493
        },
        "id": "wYnjhHssyOEP",
        "outputId": "348d942c-2ec0-4fbd-8d09-321e32553622"
      },
      "outputs": [
        {
          "data": {
            "text/plain": [
              "<Axes: xlabel='%ABV (Alcohol by volume)', ylabel='Frequency'>"
            ]
          },
          "execution_count": 8,
          "metadata": {},
          "output_type": "execute_result"
        },
        {
          "data": {
            "image/png": "[encoded data removed]",
            "text/plain": [
              "<Figure size 640x480 with 1 Axes>"
            ]
          },
          "metadata": {},
          "output_type": "display_data"
        }
      ],
      "source": [
        "df[\"beer_abv\"].plot(kind=\"hist\", bins=16, range=[4, 12], density=True, xlabel=\"%ABV (Alcohol by volume)\")"
      ]
    },
    {
      "cell_type": "code",
      "execution_count": 9,
      "metadata": {
        "colab": {
          "base_uri": "https://localhost:8080/",
          "height": 551
        },
        "id": "sWaS2Ts-Ku3o",
        "outputId": "e4276076-50d0-421b-a1b6-fb49b581b656"
      },
      "outputs": [
        {
          "name": "stdout",
          "output_type": "stream",
          "text": [
            "Most Popular Beers\n"
          ]
        },
        {
          "data": {
            "text/html": [
              "<div>\n",
              "<style scoped>\n",
              "    .dataframe tbody tr th:only-of-type {\n",
              "        vertical-align: middle;\n",
              "    }\n",
              "\n",
              "    .dataframe tbody tr th {\n",
              "        vertical-align: top;\n",
              "    }\n",
              "\n",
              "    .dataframe thead th {\n",
              "        text-align: right;\n",
              "    }\n",
              "</style>\n",
              "<table border=\"1\" class=\"dataframe\">\n",
              "  <thead>\n",
              "    <tr style=\"text-align: right;\">\n",
              "      <th></th>\n",
              "      <th>mean</th>\n",
              "      <th>count</th>\n",
              "    </tr>\n",
              "    <tr>\n",
              "      <th>beer_full</th>\n",
              "      <th></th>\n",
              "      <th></th>\n",
              "    </tr>\n",
              "  </thead>\n",
              "  <tbody>\n",
              "    <tr>\n",
              "      <th>Sierra Nevada Celebration Ale (American IPA) by Sierra Nevada Brewing Co.</th>\n",
              "      <td>4.168556</td>\n",
              "      <td>2999</td>\n",
              "    </tr>\n",
              "    <tr>\n",
              "      <th>Sierra Nevada Pale Ale (American Pale Ale (APA)) by Sierra Nevada Brewing Co.</th>\n",
              "      <td>4.245845</td>\n",
              "      <td>2587</td>\n",
              "    </tr>\n",
              "    <tr>\n",
              "      <th>Founders Breakfast Stout (American Double / Imperial Stout) by Founders Brewing Company</th>\n",
              "      <td>4.354658</td>\n",
              "      <td>2501</td>\n",
              "    </tr>\n",
              "    <tr>\n",
              "      <th>Sierra Nevada Bigfoot Barleywine Style Ale (American Barleywine) by Sierra Nevada Brewing Co.</th>\n",
              "      <td>3.966479</td>\n",
              "      <td>2491</td>\n",
              "    </tr>\n",
              "    <tr>\n",
              "      <th>Sierra Nevada Torpedo Extra IPA (American IPA) by Sierra Nevada Brewing Co.</th>\n",
              "      <td>4.104485</td>\n",
              "      <td>2029</td>\n",
              "    </tr>\n",
              "    <tr>\n",
              "      <th>Chimay Grande Réserve (Blue) (Belgian Strong Dark Ale) by Bières de Chimay S.A.</th>\n",
              "      <td>4.248631</td>\n",
              "      <td>2009</td>\n",
              "    </tr>\n",
              "    <tr>\n",
              "      <th>Racer 5 India Pale Ale (American IPA) by Bear Republic Brewing Co.</th>\n",
              "      <td>4.231608</td>\n",
              "      <td>1971</td>\n",
              "    </tr>\n",
              "    <tr>\n",
              "      <th>Founders KBS (Kentucky Breakfast Stout) (American Double / Imperial Stout) by Founders Brewing Company</th>\n",
              "      <td>4.396891</td>\n",
              "      <td>1930</td>\n",
              "    </tr>\n",
              "    <tr>\n",
              "      <th>Hop Rod Rye (Rye Beer) by Bear Republic Brewing Co.</th>\n",
              "      <td>4.217835</td>\n",
              "      <td>1912</td>\n",
              "    </tr>\n",
              "    <tr>\n",
              "      <th>Fat Tire Amber Ale (American Amber / Red Ale) by New Belgium Brewing</th>\n",
              "      <td>3.823775</td>\n",
              "      <td>1674</td>\n",
              "    </tr>\n",
              "  </tbody>\n",
              "</table>\n",
              "</div>"
            ],
            "text/plain": [
              "                                                        mean  count\n",
              "beer_full                                                          \n",
              "Sierra Nevada Celebration Ale (American IPA) by...  4.168556   2999\n",
              "Sierra Nevada Pale Ale (American Pale Ale (APA)...  4.245845   2587\n",
              "Founders Breakfast Stout (American Double / Imp...  4.354658   2501\n",
              "Sierra Nevada Bigfoot Barleywine Style Ale (Ame...  3.966479   2491\n",
              "Sierra Nevada Torpedo Extra IPA (American IPA) ...  4.104485   2029\n",
              "Chimay Grande Réserve (Blue) (Belgian Strong Da...  4.248631   2009\n",
              "Racer 5 India Pale Ale (American IPA) by Bear R...  4.231608   1971\n",
              "Founders KBS (Kentucky Breakfast Stout) (Americ...  4.396891   1930\n",
              "Hop Rod Rye (Rye Beer) by Bear Republic Brewing...  4.217835   1912\n",
              "Fat Tire Amber Ale (American Amber / Red Ale) b...  3.823775   1674"
            ]
          },
          "execution_count": 9,
          "metadata": {},
          "output_type": "execute_result"
        }
      ],
      "source": [
        "print(\"Most Popular Beers\")\n",
        "df.groupby(\"beer_full\").agg(\n",
        "    mean=(\"rating_overall\", \"mean\"),\n",
        "    count=(\"rating_overall\", \"count\")\n",
        "    ).sort_values(\"count\", ascending=False).head(10)"
      ]
    },
    {
      "cell_type": "code",
      "execution_count": 10,
      "metadata": {
        "colab": {
          "base_uri": "https://localhost:8080/",
          "height": 534
        },
        "id": "NnbHEg385qhT",
        "outputId": "2949b7dc-8871-4dab-afe0-a9b9bae8bad6"
      },
      "outputs": [
        {
          "name": "stdout",
          "output_type": "stream",
          "text": [
            "Best Rated Beers\n"
          ]
        },
        {
          "data": {
            "text/html": [
              "<div>\n",
              "<style scoped>\n",
              "    .dataframe tbody tr th:only-of-type {\n",
              "        vertical-align: middle;\n",
              "    }\n",
              "\n",
              "    .dataframe tbody tr th {\n",
              "        vertical-align: top;\n",
              "    }\n",
              "\n",
              "    .dataframe thead th {\n",
              "        text-align: right;\n",
              "    }\n",
              "</style>\n",
              "<table border=\"1\" class=\"dataframe\">\n",
              "  <thead>\n",
              "    <tr style=\"text-align: right;\">\n",
              "      <th></th>\n",
              "      <th>mean</th>\n",
              "      <th>count</th>\n",
              "    </tr>\n",
              "    <tr>\n",
              "      <th>beer_full</th>\n",
              "      <th></th>\n",
              "      <th></th>\n",
              "    </tr>\n",
              "  </thead>\n",
              "  <tbody>\n",
              "    <tr>\n",
              "      <th>Founders CBS Imperial Stout (American Double / Imperial Stout) by Founders Brewing Company</th>\n",
              "      <td>4.591052</td>\n",
              "      <td>637</td>\n",
              "    </tr>\n",
              "    <tr>\n",
              "      <th>Silva Stout (American Double / Imperial Stout) by Green Flash Brewing Co.</th>\n",
              "      <td>4.399371</td>\n",
              "      <td>159</td>\n",
              "    </tr>\n",
              "    <tr>\n",
              "      <th>Founders KBS (Kentucky Breakfast Stout) (American Double / Imperial Stout) by Founders Brewing Company</th>\n",
              "      <td>4.396891</td>\n",
              "      <td>1930</td>\n",
              "    </tr>\n",
              "    <tr>\n",
              "      <th>Hunahpu's Imperial Stout (American Double / Imperial Stout) by Cigar City Brewing</th>\n",
              "      <td>4.365967</td>\n",
              "      <td>429</td>\n",
              "    </tr>\n",
              "    <tr>\n",
              "      <th>Founders Breakfast Stout (American Double / Imperial Stout) by Founders Brewing Company</th>\n",
              "      <td>4.354658</td>\n",
              "      <td>2501</td>\n",
              "    </tr>\n",
              "    <tr>\n",
              "      <th>AleSmith Speedway Stout - Barrel Aged (American Double / Imperial Stout) by AleSmith Brewing Company</th>\n",
              "      <td>4.354460</td>\n",
              "      <td>213</td>\n",
              "    </tr>\n",
              "    <tr>\n",
              "      <th>Southampton Saison (Saison / Farmhouse Ale) by Southampton Publick House</th>\n",
              "      <td>4.333333</td>\n",
              "      <td>114</td>\n",
              "    </tr>\n",
              "    <tr>\n",
              "      <th>AleSmith IPA (American IPA) by AleSmith Brewing Company</th>\n",
              "      <td>4.303477</td>\n",
              "      <td>949</td>\n",
              "    </tr>\n",
              "    <tr>\n",
              "      <th>AleSmith Speedway Stout (American Double / Imperial Stout) by AleSmith Brewing Company</th>\n",
              "      <td>4.284201</td>\n",
              "      <td>1133</td>\n",
              "    </tr>\n",
              "    <tr>\n",
              "      <th>Barrel Aged Yeti (Russian Imperial Stout) by Great Divide Brewing Company</th>\n",
              "      <td>4.275194</td>\n",
              "      <td>129</td>\n",
              "    </tr>\n",
              "  </tbody>\n",
              "</table>\n",
              "</div>"
            ],
            "text/plain": [
              "                                                        mean  count\n",
              "beer_full                                                          \n",
              "Founders CBS Imperial Stout (American Double / ...  4.591052    637\n",
              "Silva Stout (American Double / Imperial Stout) ...  4.399371    159\n",
              "Founders KBS (Kentucky Breakfast Stout) (Americ...  4.396891   1930\n",
              "Hunahpu's Imperial Stout (American Double / Imp...  4.365967    429\n",
              "Founders Breakfast Stout (American Double / Imp...  4.354658   2501\n",
              "AleSmith Speedway Stout - Barrel Aged (American...  4.354460    213\n",
              "Southampton Saison (Saison / Farmhouse Ale) by ...  4.333333    114\n",
              "AleSmith IPA (American IPA) by AleSmith Brewing...  4.303477    949\n",
              "AleSmith Speedway Stout (American Double / Impe...  4.284201   1133\n",
              "Barrel Aged Yeti (Russian Imperial Stout) by Gr...  4.275194    129"
            ]
          },
          "execution_count": 10,
          "metadata": {},
          "output_type": "execute_result"
        }
      ],
      "source": [
        "print(\"Best Rated Beers\")\n",
        "df.groupby(\"beer_full\").agg(\n",
        "    mean=(\"rating_overall\", \"mean\"),\n",
        "    count=(\"rating_overall\", \"count\")\n",
        "    ).loc[lambda x: x[\"count\"]>=100].sort_values(\"mean\", ascending=False).head(10)"
      ]
    },
    {
      "cell_type": "code",
      "execution_count": 11,
      "metadata": {
        "colab": {
          "base_uri": "https://localhost:8080/",
          "height": 516
        },
        "id": "6LP6cdULKsv7",
        "outputId": "e19004bb-09f1-4d87-b7a8-d613bb95b4f5"
      },
      "outputs": [
        {
          "name": "stdout",
          "output_type": "stream",
          "text": [
            "Worst Rated Beers\n"
          ]
        },
        {
          "data": {
            "text/html": [
              "<div>\n",
              "<style scoped>\n",
              "    .dataframe tbody tr th:only-of-type {\n",
              "        vertical-align: middle;\n",
              "    }\n",
              "\n",
              "    .dataframe tbody tr th {\n",
              "        vertical-align: top;\n",
              "    }\n",
              "\n",
              "    .dataframe thead th {\n",
              "        text-align: right;\n",
              "    }\n",
              "</style>\n",
              "<table border=\"1\" class=\"dataframe\">\n",
              "  <thead>\n",
              "    <tr style=\"text-align: right;\">\n",
              "      <th></th>\n",
              "      <th>mean</th>\n",
              "      <th>count</th>\n",
              "    </tr>\n",
              "    <tr>\n",
              "      <th>beer_full</th>\n",
              "      <th></th>\n",
              "      <th></th>\n",
              "    </tr>\n",
              "  </thead>\n",
              "  <tbody>\n",
              "    <tr>\n",
              "      <th>Heineken Premium Light Lager (Light Lager) by Heineken Nederland B.V.</th>\n",
              "      <td>2.628889</td>\n",
              "      <td>225</td>\n",
              "    </tr>\n",
              "    <tr>\n",
              "      <th>Hite (Euro Pale Lager) by Hite Brewery Company LTD</th>\n",
              "      <td>2.674312</td>\n",
              "      <td>109</td>\n",
              "    </tr>\n",
              "    <tr>\n",
              "      <th>Amstel Light (Light Lager) by Amstel Brouwerij B. V.</th>\n",
              "      <td>2.719355</td>\n",
              "      <td>465</td>\n",
              "    </tr>\n",
              "    <tr>\n",
              "      <th>Kennebunkport IPA (American IPA) by Federal Jack's Restaurant &amp; Brew Pub</th>\n",
              "      <td>2.883621</td>\n",
              "      <td>116</td>\n",
              "    </tr>\n",
              "    <tr>\n",
              "      <th>Super Bock (American Adjunct Lager) by UNICER União Cervejeira S.A.</th>\n",
              "      <td>2.960000</td>\n",
              "      <td>100</td>\n",
              "    </tr>\n",
              "    <tr>\n",
              "      <th>Asahi Super Dry (Japanese Rice Lager) by Asahi Breweries Ltd</th>\n",
              "      <td>2.985782</td>\n",
              "      <td>422</td>\n",
              "    </tr>\n",
              "    <tr>\n",
              "      <th>Cherry Chocolate Beer (Fruit / Vegetable Beer) by O'Fallon Brewery</th>\n",
              "      <td>2.993902</td>\n",
              "      <td>164</td>\n",
              "    </tr>\n",
              "    <tr>\n",
              "      <th>Bourbon Barrel Stout (Clay Street Series) (American Stout) by Bluegrass Brewing Co. - East St. Matthew's</th>\n",
              "      <td>3.021930</td>\n",
              "      <td>114</td>\n",
              "    </tr>\n",
              "    <tr>\n",
              "      <th>Heineken Lager Beer (Euro Pale Lager) by Heineken Nederland B.V.</th>\n",
              "      <td>3.025237</td>\n",
              "      <td>1268</td>\n",
              "    </tr>\n",
              "    <tr>\n",
              "      <th>Toña Cerveza (American Adjunct Lager) by Industrial Cervecera S.A. / Compañía Cervecera De Nicaragua</th>\n",
              "      <td>3.027027</td>\n",
              "      <td>111</td>\n",
              "    </tr>\n",
              "  </tbody>\n",
              "</table>\n",
              "</div>"
            ],
            "text/plain": [
              "                                                        mean  count\n",
              "beer_full                                                          \n",
              "Heineken Premium Light Lager (Light Lager) by H...  2.628889    225\n",
              "Hite (Euro Pale Lager) by Hite Brewery Company LTD  2.674312    109\n",
              "Amstel Light (Light Lager) by Amstel Brouwerij ...  2.719355    465\n",
              "Kennebunkport IPA (American IPA) by Federal Jac...  2.883621    116\n",
              "Super Bock (American Adjunct Lager) by UNICER U...  2.960000    100\n",
              "Asahi Super Dry (Japanese Rice Lager) by Asahi ...  2.985782    422\n",
              "Cherry Chocolate Beer (Fruit / Vegetable Beer) ...  2.993902    164\n",
              "Bourbon Barrel Stout (Clay Street Series) (Amer...  3.021930    114\n",
              "Heineken Lager Beer (Euro Pale Lager) by Heinek...  3.025237   1268\n",
              "Toña Cerveza (American Adjunct Lager) by Indust...  3.027027    111"
            ]
          },
          "execution_count": 11,
          "metadata": {},
          "output_type": "execute_result"
        }
      ],
      "source": [
        "print(\"Worst Rated Beers\")\n",
        "df.groupby(\"beer_full\").agg(\n",
        "    mean=(\"rating_overall\", \"mean\"),\n",
        "    count=(\"rating_overall\", \"count\")\n",
        "    ).loc[lambda x: x[\"count\"]>=100].sort_values(\"mean\").head(10)"
      ]
    },
    {
      "cell_type": "code",
      "execution_count": 12,
      "metadata": {
        "colab": {
          "base_uri": "https://localhost:8080/",
          "height": 412
        },
        "id": "4YBgCf55Njyk",
        "outputId": "5c4cf15a-8f92-4b40-befd-32dfb3f77324"
      },
      "outputs": [
        {
          "name": "stdout",
          "output_type": "stream",
          "text": [
            "Most Popular Beer Styles\n"
          ]
        },
        {
          "data": {
            "text/html": [
              "<div>\n",
              "<style scoped>\n",
              "    .dataframe tbody tr th:only-of-type {\n",
              "        vertical-align: middle;\n",
              "    }\n",
              "\n",
              "    .dataframe tbody tr th {\n",
              "        vertical-align: top;\n",
              "    }\n",
              "\n",
              "    .dataframe thead th {\n",
              "        text-align: right;\n",
              "    }\n",
              "</style>\n",
              "<table border=\"1\" class=\"dataframe\">\n",
              "  <thead>\n",
              "    <tr style=\"text-align: right;\">\n",
              "      <th></th>\n",
              "      <th>mean</th>\n",
              "      <th>count</th>\n",
              "    </tr>\n",
              "    <tr>\n",
              "      <th>beer_style</th>\n",
              "      <th></th>\n",
              "      <th></th>\n",
              "    </tr>\n",
              "  </thead>\n",
              "  <tbody>\n",
              "    <tr>\n",
              "      <th>American IPA</th>\n",
              "      <td>4.065581</td>\n",
              "      <td>28217</td>\n",
              "    </tr>\n",
              "    <tr>\n",
              "      <th>American Double / Imperial Stout</th>\n",
              "      <td>4.117924</td>\n",
              "      <td>19466</td>\n",
              "    </tr>\n",
              "    <tr>\n",
              "      <th>American Double / Imperial IPA</th>\n",
              "      <td>3.953126</td>\n",
              "      <td>15883</td>\n",
              "    </tr>\n",
              "    <tr>\n",
              "      <th>American Pale Ale (APA)</th>\n",
              "      <td>3.913452</td>\n",
              "      <td>11664</td>\n",
              "    </tr>\n",
              "    <tr>\n",
              "      <th>Russian Imperial Stout</th>\n",
              "      <td>4.081732</td>\n",
              "      <td>7910</td>\n",
              "    </tr>\n",
              "    <tr>\n",
              "      <th>American Amber / Red Ale</th>\n",
              "      <td>3.804465</td>\n",
              "      <td>7771</td>\n",
              "    </tr>\n",
              "    <tr>\n",
              "      <th>American Porter</th>\n",
              "      <td>3.902190</td>\n",
              "      <td>7627</td>\n",
              "    </tr>\n",
              "    <tr>\n",
              "      <th>American Barleywine</th>\n",
              "      <td>3.965770</td>\n",
              "      <td>6763</td>\n",
              "    </tr>\n",
              "    <tr>\n",
              "      <th>Tripel</th>\n",
              "      <td>3.844019</td>\n",
              "      <td>5818</td>\n",
              "    </tr>\n",
              "    <tr>\n",
              "      <th>Belgian Strong Dark Ale</th>\n",
              "      <td>4.005740</td>\n",
              "      <td>5662</td>\n",
              "    </tr>\n",
              "  </tbody>\n",
              "</table>\n",
              "</div>"
            ],
            "text/plain": [
              "                                      mean  count\n",
              "beer_style                                       \n",
              "American IPA                      4.065581  28217\n",
              "American Double / Imperial Stout  4.117924  19466\n",
              "American Double / Imperial IPA    3.953126  15883\n",
              "American Pale Ale (APA)           3.913452  11664\n",
              "Russian Imperial Stout            4.081732   7910\n",
              "American Amber / Red Ale          3.804465   7771\n",
              "American Porter                   3.902190   7627\n",
              "American Barleywine               3.965770   6763\n",
              "Tripel                            3.844019   5818\n",
              "Belgian Strong Dark Ale           4.005740   5662"
            ]
          },
          "execution_count": 12,
          "metadata": {},
          "output_type": "execute_result"
        }
      ],
      "source": [
        "print(\"Most Popular Beer Styles\")\n",
        "df.groupby(\"beer_style\").agg(\n",
        "    mean=(\"rating_overall\", \"mean\"),\n",
        "    count=(\"rating_overall\", \"count\")\n",
        "    ).sort_values(\"count\", ascending=False).head(10)"
      ]
    },
    {
      "cell_type": "code",
      "execution_count": 13,
      "metadata": {
        "colab": {
          "base_uri": "https://localhost:8080/",
          "height": 412
        },
        "id": "JtwdnFwTNkcE",
        "outputId": "ec3960ab-077a-4fa4-dc8a-b68817a505e1"
      },
      "outputs": [
        {
          "name": "stdout",
          "output_type": "stream",
          "text": [
            "Most Popular Breweries\n"
          ]
        },
        {
          "data": {
            "text/html": [
              "<div>\n",
              "<style scoped>\n",
              "    .dataframe tbody tr th:only-of-type {\n",
              "        vertical-align: middle;\n",
              "    }\n",
              "\n",
              "    .dataframe tbody tr th {\n",
              "        vertical-align: top;\n",
              "    }\n",
              "\n",
              "    .dataframe thead th {\n",
              "        text-align: right;\n",
              "    }\n",
              "</style>\n",
              "<table border=\"1\" class=\"dataframe\">\n",
              "  <thead>\n",
              "    <tr style=\"text-align: right;\">\n",
              "      <th></th>\n",
              "      <th>mean</th>\n",
              "      <th>count</th>\n",
              "    </tr>\n",
              "    <tr>\n",
              "      <th>brewery_name</th>\n",
              "      <th></th>\n",
              "      <th></th>\n",
              "    </tr>\n",
              "  </thead>\n",
              "  <tbody>\n",
              "    <tr>\n",
              "      <th>Sierra Nevada Brewing Co.</th>\n",
              "      <td>4.056182</td>\n",
              "      <td>28746</td>\n",
              "    </tr>\n",
              "    <tr>\n",
              "      <th>Founders Brewing Company</th>\n",
              "      <td>4.114475</td>\n",
              "      <td>20000</td>\n",
              "    </tr>\n",
              "    <tr>\n",
              "      <th>Southern Tier Brewing Company</th>\n",
              "      <td>3.878049</td>\n",
              "      <td>15867</td>\n",
              "    </tr>\n",
              "    <tr>\n",
              "      <th>Great Divide Brewing Company</th>\n",
              "      <td>3.965506</td>\n",
              "      <td>14930</td>\n",
              "    </tr>\n",
              "    <tr>\n",
              "      <th>New Belgium Brewing</th>\n",
              "      <td>3.852950</td>\n",
              "      <td>13407</td>\n",
              "    </tr>\n",
              "    <tr>\n",
              "      <th>Bear Republic Brewing Co.</th>\n",
              "      <td>4.153430</td>\n",
              "      <td>7857</td>\n",
              "    </tr>\n",
              "    <tr>\n",
              "      <th>Port Brewing Company / Pizza Port</th>\n",
              "      <td>3.997328</td>\n",
              "      <td>7297</td>\n",
              "    </tr>\n",
              "    <tr>\n",
              "      <th>The Bruery</th>\n",
              "      <td>3.945304</td>\n",
              "      <td>7176</td>\n",
              "    </tr>\n",
              "    <tr>\n",
              "      <th>Cigar City Brewing</th>\n",
              "      <td>4.022958</td>\n",
              "      <td>6708</td>\n",
              "    </tr>\n",
              "    <tr>\n",
              "      <th>AleSmith Brewing Company</th>\n",
              "      <td>4.171764</td>\n",
              "      <td>6311</td>\n",
              "    </tr>\n",
              "  </tbody>\n",
              "</table>\n",
              "</div>"
            ],
            "text/plain": [
              "                                       mean  count\n",
              "brewery_name                                      \n",
              "Sierra Nevada Brewing Co.          4.056182  28746\n",
              "Founders Brewing Company           4.114475  20000\n",
              "Southern Tier Brewing Company      3.878049  15867\n",
              "Great Divide Brewing Company       3.965506  14930\n",
              "New Belgium Brewing                3.852950  13407\n",
              "Bear Republic Brewing Co.          4.153430   7857\n",
              "Port Brewing Company / Pizza Port  3.997328   7297\n",
              "The Bruery                         3.945304   7176\n",
              "Cigar City Brewing                 4.022958   6708\n",
              "AleSmith Brewing Company           4.171764   6311"
            ]
          },
          "execution_count": 13,
          "metadata": {},
          "output_type": "execute_result"
        }
      ],
      "source": [
        "print(\"Most Popular Breweries\")\n",
        "df.groupby(\"brewery_name\").agg(\n",
        "    mean=(\"rating_overall\", \"mean\"),\n",
        "    count=(\"rating_overall\", \"count\")\n",
        "    ).sort_values(\"count\", ascending=False).head(10)"
      ]
    },
    {
      "cell_type": "code",
      "execution_count": 14,
      "metadata": {
        "id": "aSiCo6OzwZx0"
      },
      "outputs": [],
      "source": [
        "rating, min_quality, min_quantity = \"rating_overall\", 3, 10\n",
        "l1_reg, l2_reg = 0.001, 0.0001\n",
        "threads = max(1, mp.cpu_count()-2)\n",
        "N = 10\n",
        "\n",
        "df = df[[\"userid\", \"beerid\", rating, \"beer_full\"]]\n",
        "df = df[df[rating] >= min_quality]\n",
        "df_temp = df[\"userid\"].value_counts()\n",
        "df = df[df[\"userid\"].isin(df_temp[df_temp >= min_quantity].index)]\n",
        "df_temp = df[\"beerid\"].value_counts()\n",
        "df = df[df[\"beerid\"].isin(df_temp[df_temp >= min_quantity].index)]\n",
        "df.reset_index(drop=True, inplace=True)\n",
        "U, T = np.sort(df[\"userid\"].unique()), np.sort(df[\"beerid\"].unique())\n",
        "m, n = len(U), len(T)\n",
        "df[\"userid\"] = df[\"userid\"].map({userid: index for index, userid in enumerate(U)})\n",
        "df[\"beerid\"] = df[\"beerid\"].map({beerid: index for index, beerid in enumerate(T)})\n",
        "\n",
        "model = ElasticNet(alpha=l1_reg+l2_reg,\n",
        "                   l1_ratio=l1_reg/(l1_reg+l2_reg),\n",
        "                   positive=True, fit_intercept=False, copy_X=False)\n",
        "model_knn = NearestNeighbors(n_neighbors=int(n/10))"
      ]
    },
    {
      "cell_type": "code",
      "execution_count": 15,
      "metadata": {
        "id": "eObITIXgV-ys"
      },
      "outputs": [],
      "source": [
        "def get_train_test(df):\n",
        "    test = df.groupby(\"userid\", group_keys=False).apply(lambda grp: grp.sample(n=1))\n",
        "    train = df.drop(test.index)\n",
        "    return train, test"
      ]
    },
    {
      "cell_type": "code",
      "execution_count": 16,
      "metadata": {
        "id": "NOpks-cC23rK"
      },
      "outputs": [],
      "source": [
        "def get_A(train):\n",
        "    A = lil_matrix((m, n))\n",
        "    for row in zip(train[\"userid\"], train[\"beerid\"], train[rating]):\n",
        "        A[row[0], row[1]] = row[2]\n",
        "    return A"
      ]
    },
    {
      "cell_type": "code",
      "execution_count": 17,
      "metadata": {
        "id": "qhRegADvCgCb"
      },
      "outputs": [],
      "source": [
        "def get_A_hat(A):\n",
        "    m, n = A.shape\n",
        "    W = lil_matrix((n, n))\n",
        "    for j in range(n):\n",
        "        a_j = A[:, j].copy()\n",
        "        A[:, j] = 0\n",
        "        model.fit(A, a_j.toarray())\n",
        "        A[:, j] = a_j\n",
        "        w_j = model.coef_\n",
        "        w_j[w_j < 0] = 0\n",
        "        for index in w_j.nonzero()[0]:\n",
        "            W[(index, j)] = w_j[index]\n",
        "    return (A @ W).tolil()"
      ]
    },
    {
      "cell_type": "code",
      "execution_count": 18,
      "metadata": {
        "id": "08f7rV7hEHya"
      },
      "outputs": [],
      "source": [
        "def parallel(params):\n",
        "    A = params[2]\n",
        "    for j in range(params[0], params[1]):\n",
        "        a_j = A[:, j].copy()\n",
        "        A[:, j] = 0\n",
        "        model.fit(A, a_j.toarray())\n",
        "        A[:, j] = a_j\n",
        "        w_j = model.coef_\n",
        "        w_j[w_j < 0] = 0\n",
        "        for index in w_j.nonzero()[0]:\n",
        "            W_[(index, j)] = w_j[index]\n",
        "\n",
        "def get_A_hat_parallel(A):\n",
        "    m, n = A.shape\n",
        "    global W_\n",
        "    W_ = np.ctypeslib.as_array(\n",
        "        mp.Array(ctypes.c_double, n*n).get_obj()\n",
        "        ).reshape(n, n)\n",
        "    n_ = math.ceil(n/threads)\n",
        "    params = []\n",
        "    for i in range(threads-1):\n",
        "        params.append([i*n_, (i+1)*n_, A])\n",
        "    params.append([(i+1)*n_, n, A])\n",
        "    with ProcessPoolExecutor() as executor:\n",
        "        executor.map(parallel, params)\n",
        "    return lil_matrix(A @ W_)"
      ]
    },
    {
      "cell_type": "code",
      "execution_count": 19,
      "metadata": {},
      "outputs": [],
      "source": [
        "def get_A_hat_fs(A):\n",
        "    m, n = A.shape\n",
        "    A_csc = A.tocsc(copy=True)\n",
        "    model_knn.fit(A.transpose(copy=True))\n",
        "    nn = model_knn.kneighbors(return_distance=False)\n",
        "    W = lil_matrix((n, n))\n",
        "    for j in range(n):\n",
        "        a_j = A[:, j].copy()\n",
        "        model.fit(A_csc[:, nn[j]], a_j.toarray())\n",
        "        w_j = model.coef_\n",
        "        w_j[w_j < 0] = 0\n",
        "        for index in w_j.nonzero()[0]:\n",
        "            W[(index, j)] = w_j[index]\n",
        "    return (A @ W).tolil()"
      ]
    },
    {
      "cell_type": "code",
      "execution_count": 20,
      "metadata": {
        "id": "o9zCNRwwiZ9a"
      },
      "outputs": [],
      "source": [
        "def get_recs(A_hat, A):\n",
        "    m, n = A_hat.shape\n",
        "    recs = []\n",
        "    for i in range(m):\n",
        "        recs.append([])\n",
        "        for j in A_hat[i].nonzero()[1]:\n",
        "            if (A[(i, j)] == 0):\n",
        "                recs[-1].append((j, A_hat[(i, j)]))\n",
        "        recs[-1].sort(key=lambda x: x[1], reverse=True)\n",
        "        recs[-1] = [pair[0] for pair in recs[-1][:N]]\n",
        "    return recs"
      ]
    },
    {
      "cell_type": "code",
      "execution_count": 21,
      "metadata": {
        "id": "m9gMCsqdajLE"
      },
      "outputs": [],
      "source": [
        "def display_user_recs(df, recs, userid):\n",
        "    print(f\"Top {N} Beer Recommendations for User#{userid}\\n\")\n",
        "    for rec in recs[userid]:\n",
        "        print(df[df[\"beerid\"] == rec][\"beer_full\"].tolist()[0])"
      ]
    },
    {
      "cell_type": "code",
      "execution_count": 22,
      "metadata": {
        "id": "VRjhykrf_POu"
      },
      "outputs": [],
      "source": [
        "def get_HR_ARHR(recs, test):\n",
        "    test.reset_index(drop=True, inplace=True)\n",
        "    HR, ARHR = 0, 0\n",
        "    for i in range(m):\n",
        "        try:\n",
        "            p = recs[i].index(test[\"beerid\"][i]) + 1\n",
        "            HR += 1\n",
        "            ARHR += (1 / p)\n",
        "        except ValueError:\n",
        "            continue\n",
        "    return (HR/m, ARHR/m)"
      ]
    },
    {
      "cell_type": "code",
      "execution_count": 23,
      "metadata": {
        "id": "wVygQR7yyZwG"
      },
      "outputs": [],
      "source": [
        "train, test = get_train_test(df)\n",
        "A = get_A(train)"
      ]
    },
    {
      "cell_type": "code",
      "execution_count": 24,
      "metadata": {},
      "outputs": [
        {
          "name": "stdout",
          "output_type": "stream",
          "text": [
            "Hit Rate (HR): 0.29740661432310256\n",
            "Average Reciprocal Hit-Rank (ARHR): 0.13777866527688062\n"
          ]
        }
      ],
      "source": [
        "A_hat = get_A_hat(A)\n",
        "recs = get_recs(A_hat, A)\n",
        "HR, ARHR = get_HR_ARHR(recs, test)\n",
        "print(f\"Hit Rate (HR): {HR}\\nAverage Reciprocal Hit-Rank (ARHR): {ARHR}\")"
      ]
    },
    {
      "cell_type": "code",
      "execution_count": 25,
      "metadata": {},
      "outputs": [
        {
          "name": "stdout",
          "output_type": "stream",
          "text": [
            "Hit Rate (HR): 0.29740661432310256\n",
            "Average Reciprocal Hit-Rank (ARHR): 0.13777866527688062\n"
          ]
        }
      ],
      "source": [
        "A_hat = get_A_hat_parallel(A)\n",
        "recs = get_recs(A_hat, A)\n",
        "HR, ARHR = get_HR_ARHR(recs, test)\n",
        "print(f\"Hit Rate (HR): {HR}\\nAverage Reciprocal Hit-Rank (ARHR): {ARHR}\")"
      ]
    },
    {
      "cell_type": "code",
      "execution_count": 26,
      "metadata": {},
      "outputs": [
        {
          "name": "stdout",
          "output_type": "stream",
          "text": [
            "Hit Rate (HR): 0.025220080894599095\n",
            "Average Reciprocal Hit-Rank (ARHR): 0.008798703873650343\n"
          ]
        }
      ],
      "source": [
        "A_hat = get_A_hat_fs(A)\n",
        "recs = get_recs(A_hat, A)\n",
        "HR, ARHR = get_HR_ARHR(recs, test)\n",
        "print(f\"Hit Rate (HR): {HR}\\nAverage Reciprocal Hit-Rank (ARHR): {ARHR}\")"
      ]
    },
    {
      "cell_type": "code",
      "execution_count": 27,
      "metadata": {},
      "outputs": [
        {
          "name": "stdout",
          "output_type": "stream",
          "text": [
            "Hit Rate (HR): 0.30563882940756604\n",
            "Average Reciprocal Hit-Rank (ARHR): 0.13807850779299752\n"
          ]
        }
      ],
      "source": [
        "HR_avg, ARHR_avg = [0.0, 0.0]\n",
        "for i in range(5):\n",
        "  train, test = get_train_test(df)\n",
        "  A = get_A(train)\n",
        "  A_hat = get_A_hat_parallel(A)\n",
        "  recs = get_recs(A_hat, A)\n",
        "  HR, ARHR = get_HR_ARHR(recs, test)\n",
        "  HR_avg += HR\n",
        "  ARHR_avg += ARHR\n",
        "HR_avg /= 5\n",
        "ARHR_avg /= 5\n",
        "print(f\"Hit Rate (HR): {HR_avg}\\nAverage Reciprocal Hit-Rank (ARHR): {ARHR_avg}\")"
      ]
    }
  ],
  "metadata": {
    "colab": {
      "provenance": []
    },
    "kernelspec": {
      "display_name": "Python 3",
      "name": "python3"
    },
    "language_info": {
      "codemirror_mode": {
        "name": "ipython",
        "version": 3
      },
      "file_extension": ".py",
      "mimetype": "text/x-python",
      "name": "python",
      "nbconvert_exporter": "python",
      "pygments_lexer": "ipython3",
      "version": "3.11.8"
    }
  },
  "nbformat": 4,
  "nbformat_minor": 0
}
